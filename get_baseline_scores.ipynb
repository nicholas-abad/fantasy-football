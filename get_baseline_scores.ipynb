{
 "cells": [
  {
   "cell_type": "code",
   "execution_count": 90,
   "metadata": {},
   "outputs": [],
   "source": [
    "import pandas as pd\n",
    "from sklearn.model_selection import train_test_split\n",
    "from sklearn.tree import DecisionTreeRegressor\n",
    "from sklearn.ensemble import RandomForestRegressor\n",
    "from sklearn.metrics import mean_squared_error, mean_absolute_error, r2_score\n",
    "from xgboost import XGBRegressor\n",
    "import sklearn\n",
    "import numpy as np\n",
    "from tqdm import tqdm"
   ]
  },
  {
   "cell_type": "code",
   "execution_count": 102,
   "metadata": {},
   "outputs": [],
   "source": [
    "# Actual Values from 2020 ESPN draft league\n",
    "actual_data = pd.read_csv(\"./data/2020_espn_draft_results.csv\", index_col=0)\n",
    "accumulated_data = pd.read_csv(\"./data/fantasy_football_auction_values_with_sentiment.csv\",index_col=0)"
   ]
  },
  {
   "cell_type": "code",
   "execution_count": 103,
   "metadata": {},
   "outputs": [
    {
     "data": {
      "text/html": [
       "<div>\n",
       "<style scoped>\n",
       "    .dataframe tbody tr th:only-of-type {\n",
       "        vertical-align: middle;\n",
       "    }\n",
       "\n",
       "    .dataframe tbody tr th {\n",
       "        vertical-align: top;\n",
       "    }\n",
       "\n",
       "    .dataframe thead th {\n",
       "        text-align: right;\n",
       "    }\n",
       "</style>\n",
       "<table border=\"1\" class=\"dataframe\">\n",
       "  <thead>\n",
       "    <tr style=\"text-align: right;\">\n",
       "      <th></th>\n",
       "      <th>player_names</th>\n",
       "      <th>bid_amounts</th>\n",
       "      <th>keepers</th>\n",
       "      <th>round_num</th>\n",
       "      <th>round_pick</th>\n",
       "    </tr>\n",
       "  </thead>\n",
       "  <tbody>\n",
       "    <tr>\n",
       "      <th>0</th>\n",
       "      <td>Chris Carson</td>\n",
       "      <td>15</td>\n",
       "      <td>True</td>\n",
       "      <td>1</td>\n",
       "      <td>1</td>\n",
       "    </tr>\n",
       "    <tr>\n",
       "      <th>1</th>\n",
       "      <td>Derrick Henry</td>\n",
       "      <td>27</td>\n",
       "      <td>True</td>\n",
       "      <td>1</td>\n",
       "      <td>2</td>\n",
       "    </tr>\n",
       "    <tr>\n",
       "      <th>2</th>\n",
       "      <td>Lamar Jackson</td>\n",
       "      <td>9</td>\n",
       "      <td>True</td>\n",
       "      <td>1</td>\n",
       "      <td>3</td>\n",
       "    </tr>\n",
       "    <tr>\n",
       "      <th>3</th>\n",
       "      <td>George Kittle</td>\n",
       "      <td>10</td>\n",
       "      <td>True</td>\n",
       "      <td>1</td>\n",
       "      <td>4</td>\n",
       "    </tr>\n",
       "    <tr>\n",
       "      <th>4</th>\n",
       "      <td>Terry McLaurin</td>\n",
       "      <td>5</td>\n",
       "      <td>True</td>\n",
       "      <td>1</td>\n",
       "      <td>5</td>\n",
       "    </tr>\n",
       "  </tbody>\n",
       "</table>\n",
       "</div>"
      ],
      "text/plain": [
       "     player_names  bid_amounts  keepers  round_num  round_pick\n",
       "0    Chris Carson           15     True          1           1\n",
       "1   Derrick Henry           27     True          1           2\n",
       "2   Lamar Jackson            9     True          1           3\n",
       "3   George Kittle           10     True          1           4\n",
       "4  Terry McLaurin            5     True          1           5"
      ]
     },
     "execution_count": 103,
     "metadata": {},
     "output_type": "execute_result"
    }
   ],
   "source": [
    "actual_data.head()"
   ]
  },
  {
   "cell_type": "code",
   "execution_count": 104,
   "metadata": {},
   "outputs": [
    {
     "data": {
      "text/html": [
       "<div>\n",
       "<style scoped>\n",
       "    .dataframe tbody tr th:only-of-type {\n",
       "        vertical-align: middle;\n",
       "    }\n",
       "\n",
       "    .dataframe tbody tr th {\n",
       "        vertical-align: top;\n",
       "    }\n",
       "\n",
       "    .dataframe thead th {\n",
       "        text-align: right;\n",
       "    }\n",
       "</style>\n",
       "<table border=\"1\" class=\"dataframe\">\n",
       "  <thead>\n",
       "    <tr style=\"text-align: right;\">\n",
       "      <th></th>\n",
       "      <th>Player_Names</th>\n",
       "      <th>ESPN_Price</th>\n",
       "      <th>ESPN_Avg_Price</th>\n",
       "      <th>Yahoo_Price</th>\n",
       "      <th>Yahoo_Avg_Price</th>\n",
       "      <th>NFLprice</th>\n",
       "      <th>NFL_Avg_Price</th>\n",
       "      <th>Average_Price</th>\n",
       "      <th>Proj_Price</th>\n",
       "      <th>Inflated_Price</th>\n",
       "      <th>sentiment_scores</th>\n",
       "    </tr>\n",
       "  </thead>\n",
       "  <tbody>\n",
       "    <tr>\n",
       "      <th>0</th>\n",
       "      <td>Christian McCaffrey</td>\n",
       "      <td>63</td>\n",
       "      <td>70</td>\n",
       "      <td>64</td>\n",
       "      <td>76</td>\n",
       "      <td>70</td>\n",
       "      <td>63</td>\n",
       "      <td>69</td>\n",
       "      <td>81</td>\n",
       "      <td>81</td>\n",
       "      <td>0.108964</td>\n",
       "    </tr>\n",
       "    <tr>\n",
       "      <th>1</th>\n",
       "      <td>Saquon Barkley</td>\n",
       "      <td>60</td>\n",
       "      <td>61</td>\n",
       "      <td>62</td>\n",
       "      <td>71</td>\n",
       "      <td>67</td>\n",
       "      <td>56</td>\n",
       "      <td>63</td>\n",
       "      <td>72</td>\n",
       "      <td>72</td>\n",
       "      <td>0.090616</td>\n",
       "    </tr>\n",
       "    <tr>\n",
       "      <th>2</th>\n",
       "      <td>Ezekiel Elliott</td>\n",
       "      <td>60</td>\n",
       "      <td>58</td>\n",
       "      <td>55</td>\n",
       "      <td>64</td>\n",
       "      <td>52</td>\n",
       "      <td>45</td>\n",
       "      <td>56</td>\n",
       "      <td>67</td>\n",
       "      <td>67</td>\n",
       "      <td>0.135976</td>\n",
       "    </tr>\n",
       "    <tr>\n",
       "      <th>3</th>\n",
       "      <td>Michael Thomas</td>\n",
       "      <td>51</td>\n",
       "      <td>57</td>\n",
       "      <td>54</td>\n",
       "      <td>56</td>\n",
       "      <td>49</td>\n",
       "      <td>45</td>\n",
       "      <td>53</td>\n",
       "      <td>43</td>\n",
       "      <td>43</td>\n",
       "      <td>0.085932</td>\n",
       "    </tr>\n",
       "    <tr>\n",
       "      <th>4</th>\n",
       "      <td>Dalvin Cook</td>\n",
       "      <td>59</td>\n",
       "      <td>51</td>\n",
       "      <td>54</td>\n",
       "      <td>58</td>\n",
       "      <td>50</td>\n",
       "      <td>37</td>\n",
       "      <td>49</td>\n",
       "      <td>57</td>\n",
       "      <td>57</td>\n",
       "      <td>0.000000</td>\n",
       "    </tr>\n",
       "  </tbody>\n",
       "</table>\n",
       "</div>"
      ],
      "text/plain": [
       "          Player_Names  ESPN_Price  ESPN_Avg_Price  Yahoo_Price  \\\n",
       "0  Christian McCaffrey          63              70           64   \n",
       "1       Saquon Barkley          60              61           62   \n",
       "2      Ezekiel Elliott          60              58           55   \n",
       "3       Michael Thomas          51              57           54   \n",
       "4          Dalvin Cook          59              51           54   \n",
       "\n",
       "   Yahoo_Avg_Price  NFLprice  NFL_Avg_Price  Average_Price  Proj_Price  \\\n",
       "0               76        70             63             69          81   \n",
       "1               71        67             56             63          72   \n",
       "2               64        52             45             56          67   \n",
       "3               56        49             45             53          43   \n",
       "4               58        50             37             49          57   \n",
       "\n",
       "   Inflated_Price  sentiment_scores  \n",
       "0              81          0.108964  \n",
       "1              72          0.090616  \n",
       "2              67          0.135976  \n",
       "3              43          0.085932  \n",
       "4              57          0.000000  "
      ]
     },
     "execution_count": 104,
     "metadata": {},
     "output_type": "execute_result"
    }
   ],
   "source": [
    "accumulated_data.head()"
   ]
  },
  {
   "cell_type": "code",
   "execution_count": null,
   "metadata": {},
   "outputs": [],
   "source": [
    "data = pd"
   ]
  },
  {
   "cell_type": "code",
   "execution_count": 105,
   "metadata": {},
   "outputs": [],
   "source": [
    "data = pd.merge(actual_data, accumulated_data, left_on=\"player_names\", right_on=\"Player_Names\").drop(\"Player_Names\", axis=1)"
   ]
  },
  {
   "cell_type": "code",
   "execution_count": 106,
   "metadata": {},
   "outputs": [
    {
     "data": {
      "text/plain": [
       "(198, 15)"
      ]
     },
     "execution_count": 106,
     "metadata": {},
     "output_type": "execute_result"
    }
   ],
   "source": [
    "data.shape"
   ]
  },
  {
   "cell_type": "code",
   "execution_count": 107,
   "metadata": {},
   "outputs": [],
   "source": [
    "# Disregard datapoints where they're kept as Keepers.\n",
    "data = data[data['keepers'] != True].drop(\"keepers\", axis=1)"
   ]
  },
  {
   "cell_type": "code",
   "execution_count": 108,
   "metadata": {},
   "outputs": [
    {
     "data": {
      "text/plain": [
       "(179, 14)"
      ]
     },
     "execution_count": 108,
     "metadata": {},
     "output_type": "execute_result"
    }
   ],
   "source": [
    "data.shape"
   ]
  },
  {
   "cell_type": "code",
   "execution_count": 109,
   "metadata": {},
   "outputs": [
    {
     "data": {
      "text/html": [
       "<div>\n",
       "<style scoped>\n",
       "    .dataframe tbody tr th:only-of-type {\n",
       "        vertical-align: middle;\n",
       "    }\n",
       "\n",
       "    .dataframe tbody tr th {\n",
       "        vertical-align: top;\n",
       "    }\n",
       "\n",
       "    .dataframe thead th {\n",
       "        text-align: right;\n",
       "    }\n",
       "</style>\n",
       "<table border=\"1\" class=\"dataframe\">\n",
       "  <thead>\n",
       "    <tr style=\"text-align: right;\">\n",
       "      <th></th>\n",
       "      <th>player_names</th>\n",
       "      <th>bid_amounts</th>\n",
       "      <th>round_num</th>\n",
       "      <th>round_pick</th>\n",
       "      <th>ESPN_Price</th>\n",
       "      <th>ESPN_Avg_Price</th>\n",
       "      <th>Yahoo_Price</th>\n",
       "      <th>Yahoo_Avg_Price</th>\n",
       "      <th>NFLprice</th>\n",
       "      <th>NFL_Avg_Price</th>\n",
       "      <th>Average_Price</th>\n",
       "      <th>Proj_Price</th>\n",
       "      <th>Inflated_Price</th>\n",
       "      <th>sentiment_scores</th>\n",
       "    </tr>\n",
       "  </thead>\n",
       "  <tbody>\n",
       "    <tr>\n",
       "      <th>19</th>\n",
       "      <td>Travis Kelce</td>\n",
       "      <td>20</td>\n",
       "      <td>2</td>\n",
       "      <td>8</td>\n",
       "      <td>35</td>\n",
       "      <td>37</td>\n",
       "      <td>43</td>\n",
       "      <td>40</td>\n",
       "      <td>36</td>\n",
       "      <td>29</td>\n",
       "      <td>35</td>\n",
       "      <td>37</td>\n",
       "      <td>37</td>\n",
       "      <td>0.169759</td>\n",
       "    </tr>\n",
       "    <tr>\n",
       "      <th>20</th>\n",
       "      <td>Christian McCaffrey</td>\n",
       "      <td>75</td>\n",
       "      <td>2</td>\n",
       "      <td>9</td>\n",
       "      <td>63</td>\n",
       "      <td>70</td>\n",
       "      <td>64</td>\n",
       "      <td>76</td>\n",
       "      <td>70</td>\n",
       "      <td>63</td>\n",
       "      <td>69</td>\n",
       "      <td>81</td>\n",
       "      <td>81</td>\n",
       "      <td>0.108964</td>\n",
       "    </tr>\n",
       "    <tr>\n",
       "      <th>21</th>\n",
       "      <td>Zach Ertz</td>\n",
       "      <td>11</td>\n",
       "      <td>2</td>\n",
       "      <td>10</td>\n",
       "      <td>19</td>\n",
       "      <td>16</td>\n",
       "      <td>22</td>\n",
       "      <td>13</td>\n",
       "      <td>26</td>\n",
       "      <td>16</td>\n",
       "      <td>15</td>\n",
       "      <td>19</td>\n",
       "      <td>19</td>\n",
       "      <td>0.096479</td>\n",
       "    </tr>\n",
       "    <tr>\n",
       "      <th>22</th>\n",
       "      <td>Michael Thomas</td>\n",
       "      <td>55</td>\n",
       "      <td>2</td>\n",
       "      <td>11</td>\n",
       "      <td>51</td>\n",
       "      <td>57</td>\n",
       "      <td>54</td>\n",
       "      <td>56</td>\n",
       "      <td>49</td>\n",
       "      <td>45</td>\n",
       "      <td>53</td>\n",
       "      <td>43</td>\n",
       "      <td>43</td>\n",
       "      <td>0.085932</td>\n",
       "    </tr>\n",
       "    <tr>\n",
       "      <th>23</th>\n",
       "      <td>Aaron Jones</td>\n",
       "      <td>34</td>\n",
       "      <td>2</td>\n",
       "      <td>12</td>\n",
       "      <td>43</td>\n",
       "      <td>41</td>\n",
       "      <td>36</td>\n",
       "      <td>40</td>\n",
       "      <td>30</td>\n",
       "      <td>29</td>\n",
       "      <td>37</td>\n",
       "      <td>45</td>\n",
       "      <td>45</td>\n",
       "      <td>0.125548</td>\n",
       "    </tr>\n",
       "  </tbody>\n",
       "</table>\n",
       "</div>"
      ],
      "text/plain": [
       "           player_names  bid_amounts  round_num  round_pick  ESPN_Price  \\\n",
       "19         Travis Kelce           20          2           8          35   \n",
       "20  Christian McCaffrey           75          2           9          63   \n",
       "21            Zach Ertz           11          2          10          19   \n",
       "22       Michael Thomas           55          2          11          51   \n",
       "23          Aaron Jones           34          2          12          43   \n",
       "\n",
       "    ESPN_Avg_Price  Yahoo_Price  Yahoo_Avg_Price  NFLprice  NFL_Avg_Price  \\\n",
       "19              37           43               40        36             29   \n",
       "20              70           64               76        70             63   \n",
       "21              16           22               13        26             16   \n",
       "22              57           54               56        49             45   \n",
       "23              41           36               40        30             29   \n",
       "\n",
       "    Average_Price  Proj_Price  Inflated_Price  sentiment_scores  \n",
       "19             35          37              37          0.169759  \n",
       "20             69          81              81          0.108964  \n",
       "21             15          19              19          0.096479  \n",
       "22             53          43              43          0.085932  \n",
       "23             37          45              45          0.125548  "
      ]
     },
     "execution_count": 109,
     "metadata": {},
     "output_type": "execute_result"
    }
   ],
   "source": [
    "data.head()"
   ]
  },
  {
   "cell_type": "code",
   "execution_count": 115,
   "metadata": {},
   "outputs": [
    {
     "name": "stderr",
     "output_type": "stream",
     "text": [
      "100%|██████████| 10/10 [00:00<00:00, 66.73it/s]\n",
      "  0%|          | 0/10 [00:00<?, ?it/s]"
     ]
    },
    {
     "name": "stdout",
     "output_type": "stream",
     "text": [
      "DecisionTreeRegressor()\n",
      "MSE: 36.29722222222222\n",
      "MAE: 3.2638888888888893\n",
      "R2: 0.8580766886315482\n"
     ]
    },
    {
     "name": "stderr",
     "output_type": "stream",
     "text": [
      "100%|██████████| 10/10 [00:03<00:00,  3.13it/s]\n",
      " 20%|██        | 2/10 [00:00<00:00, 16.81it/s]"
     ]
    },
    {
     "name": "stdout",
     "output_type": "stream",
     "text": [
      "RandomForestRegressor()\n",
      "MSE: 18.568716111111108\n",
      "MAE: 2.7160555555555557\n",
      "R2: 0.9016250833615699\n"
     ]
    },
    {
     "name": "stderr",
     "output_type": "stream",
     "text": [
      "100%|██████████| 10/10 [00:00<00:00, 15.85it/s]"
     ]
    },
    {
     "name": "stdout",
     "output_type": "stream",
     "text": [
      "XGBRegressor(base_score=0.5, booster='gbtree', colsample_bylevel=1,\n",
      "             colsample_bynode=1, colsample_bytree=1, gamma=0, gpu_id=-1,\n",
      "             importance_type='gain', interaction_constraints='',\n",
      "             learning_rate=0.300000012, max_delta_step=0, max_depth=6,\n",
      "             min_child_weight=1, missing=nan, monotone_constraints='()',\n",
      "             n_estimators=100, n_jobs=0, num_parallel_tree=1, random_state=0,\n",
      "             reg_alpha=0, reg_lambda=1, scale_pos_weight=1, subsample=1,\n",
      "             tree_method='exact', validate_parameters=1, verbosity=None)\n",
      "MSE: 19.635851334750715\n",
      "MAE: 2.573988568037749\n",
      "R2: 0.9259683397149493\n"
     ]
    },
    {
     "name": "stderr",
     "output_type": "stream",
     "text": [
      "\n"
     ]
    }
   ],
   "source": [
    "for model in [DecisionTreeRegressor(), RandomForestRegressor(), XGBRegressor()]:\n",
    "    # Decision Trees\n",
    "    mse = []\n",
    "    mae = []\n",
    "    r2 = []\n",
    "    for i in tqdm(range(10)):\n",
    "        xtrain, xtest, ytrain, ytest = train_test_split(data.drop([\"player_names\", \"bid_amounts\"], axis=1), data[\"bid_amounts\"], test_size=0.20)\n",
    "        model.fit(xtrain, ytrain)\n",
    "        predictions = model.predict(xtest)\n",
    "        mse.append(mean_squared_error(predictions, ytest))\n",
    "        mae.append(mean_absolute_error(predictions, ytest))\n",
    "        r2.append(r2_score(predictions, ytest))\n",
    "    print(str(model))\n",
    "    print(f\"MSE: {np.mean(mse)}\")\n",
    "    print(f\"MAE: {np.mean(mae)}\")\n",
    "    print(f\"R2: {np.mean(r2)}\")"
   ]
  },
  {
   "cell_type": "code",
   "execution_count": 110,
   "metadata": {},
   "outputs": [
    {
     "name": "stderr",
     "output_type": "stream",
     "text": [
      "100%|██████████| 10/10 [00:00<00:00, 71.53it/s]"
     ]
    },
    {
     "name": "stdout",
     "output_type": "stream",
     "text": [
      "MSE: 29.647222222222222\n",
      "MAE: 3.1194444444444445\n",
      "R2: 0.8791800496246239\n"
     ]
    },
    {
     "name": "stderr",
     "output_type": "stream",
     "text": [
      "\n"
     ]
    }
   ],
   "source": [
    "# Decision Trees\n",
    "mse = []\n",
    "mae = []\n",
    "r2 = []\n",
    "for i in tqdm(range(10)):\n",
    "    xtrain, xtest, ytrain, ytest = train_test_split(data.drop([\"player_names\", \"bid_amounts\"], axis=1), data[\"bid_amounts\"], test_size=0.20)\n",
    "    model = DecisionTreeRegressor()\n",
    "    model.fit(xtrain, ytrain)\n",
    "    predictions = model.predict(xtest)\n",
    "    mse.append(mean_squared_error(predictions, ytest))\n",
    "    mae.append(mean_absolute_error(predictions, ytest))\n",
    "    r2.append(r2_score(predictions, ytest))\n",
    "print(f\"MSE: {np.mean(mse)}\")\n",
    "print(f\"MAE: {np.mean(mae)}\")\n",
    "print(f\"R2: {np.mean(r2)}\")"
   ]
  },
  {
   "cell_type": "code",
   "execution_count": 111,
   "metadata": {},
   "outputs": [
    {
     "name": "stderr",
     "output_type": "stream",
     "text": [
      "100%|██████████| 10/10 [00:03<00:00,  2.99it/s]"
     ]
    },
    {
     "name": "stdout",
     "output_type": "stream",
     "text": [
      "MSE: 23.061628888888894\n",
      "MAE: 2.846555555555556\n",
      "R2: 0.8974978768375854\n"
     ]
    },
    {
     "name": "stderr",
     "output_type": "stream",
     "text": [
      "\n"
     ]
    }
   ],
   "source": [
    "# Random Forests\n",
    "mse = []\n",
    "mae = []\n",
    "r2 = []\n",
    "for i in tqdm(range(10)):\n",
    "    xtrain, xtest, ytrain, ytest = train_test_split(data.drop([\"player_names\", \"bid_amounts\"], axis=1), data[\"bid_amounts\"], test_size=0.20)\n",
    "    model = RandomForestRegressor()\n",
    "    model.fit(xtrain, ytrain)\n",
    "    predictions = model.predict(xtest)\n",
    "    mse.append(mean_squared_error(predictions, ytest))\n",
    "    mae.append(mean_absolute_error(predictions, ytest))\n",
    "    r2.append(r2_score(predictions, ytest))\n",
    "print(f\"MSE: {np.mean(mse)}\")\n",
    "print(f\"MAE: {np.mean(mae)}\")\n",
    "print(f\"R2: {np.mean(r2)}\")"
   ]
  },
  {
   "cell_type": "code",
   "execution_count": 112,
   "metadata": {},
   "outputs": [
    {
     "name": "stderr",
     "output_type": "stream",
     "text": [
      "100%|██████████| 10/10 [00:00<00:00, 13.04it/s]"
     ]
    },
    {
     "name": "stdout",
     "output_type": "stream",
     "text": [
      "MSE: 16.622556939223134\n",
      "MAE: 2.4241627643505734\n",
      "R2: 0.9218142073120232\n"
     ]
    },
    {
     "name": "stderr",
     "output_type": "stream",
     "text": [
      "\n"
     ]
    }
   ],
   "source": [
    "# XGBoost\n",
    "mse = []\n",
    "mae = []\n",
    "r2 = []\n",
    "for i in tqdm(range(10)):\n",
    "    xtrain, xtest, ytrain, ytest = train_test_split(data.drop([\"player_names\", \"bid_amounts\"], axis=1), data[\"bid_amounts\"], test_size=0.20)\n",
    "    model = XGBRegressor()\n",
    "    model.fit(xtrain, ytrain)\n",
    "    predictions = model.predict(xtest)\n",
    "    mse.append(mean_squared_error(predictions, ytest))\n",
    "    mae.append(mean_absolute_error(predictions, ytest))\n",
    "    r2.append(r2_score(predictions, ytest))\n",
    "print(f\"MSE: {np.mean(mse)}\")\n",
    "print(f\"MAE: {np.mean(mae)}\")\n",
    "print(f\"R2: {np.mean(r2)}\")"
   ]
  },
  {
   "cell_type": "code",
   "execution_count": 89,
   "metadata": {},
   "outputs": [
    {
     "data": {
      "text/html": [
       "<div>\n",
       "<style scoped>\n",
       "    .dataframe tbody tr th:only-of-type {\n",
       "        vertical-align: middle;\n",
       "    }\n",
       "\n",
       "    .dataframe tbody tr th {\n",
       "        vertical-align: top;\n",
       "    }\n",
       "\n",
       "    .dataframe thead th {\n",
       "        text-align: right;\n",
       "    }\n",
       "</style>\n",
       "<table border=\"1\" class=\"dataframe\">\n",
       "  <thead>\n",
       "    <tr style=\"text-align: right;\">\n",
       "      <th></th>\n",
       "      <th>player_names</th>\n",
       "      <th>bid_amounts</th>\n",
       "      <th>round_num</th>\n",
       "      <th>round_pick</th>\n",
       "      <th>Unnamed: 0</th>\n",
       "      <th>ESPN_Price</th>\n",
       "      <th>ESPN_Avg_Price</th>\n",
       "      <th>Yahoo_Price</th>\n",
       "      <th>Yahoo_Avg_Price</th>\n",
       "      <th>NFLprice</th>\n",
       "      <th>NFL_Avg_Price</th>\n",
       "      <th>Average_Price</th>\n",
       "      <th>Proj_Price</th>\n",
       "      <th>Inflated_Price</th>\n",
       "      <th>sentiment_scores</th>\n",
       "    </tr>\n",
       "  </thead>\n",
       "  <tbody>\n",
       "    <tr>\n",
       "      <th>19</th>\n",
       "      <td>Travis Kelce</td>\n",
       "      <td>20</td>\n",
       "      <td>2</td>\n",
       "      <td>8</td>\n",
       "      <td>21</td>\n",
       "      <td>35</td>\n",
       "      <td>37</td>\n",
       "      <td>43</td>\n",
       "      <td>40</td>\n",
       "      <td>36</td>\n",
       "      <td>29</td>\n",
       "      <td>35</td>\n",
       "      <td>37</td>\n",
       "      <td>37</td>\n",
       "      <td>0.169759</td>\n",
       "    </tr>\n",
       "    <tr>\n",
       "      <th>20</th>\n",
       "      <td>Christian McCaffrey</td>\n",
       "      <td>75</td>\n",
       "      <td>2</td>\n",
       "      <td>9</td>\n",
       "      <td>0</td>\n",
       "      <td>63</td>\n",
       "      <td>70</td>\n",
       "      <td>64</td>\n",
       "      <td>76</td>\n",
       "      <td>70</td>\n",
       "      <td>63</td>\n",
       "      <td>69</td>\n",
       "      <td>81</td>\n",
       "      <td>81</td>\n",
       "      <td>0.108964</td>\n",
       "    </tr>\n",
       "    <tr>\n",
       "      <th>21</th>\n",
       "      <td>Zach Ertz</td>\n",
       "      <td>11</td>\n",
       "      <td>2</td>\n",
       "      <td>10</td>\n",
       "      <td>56</td>\n",
       "      <td>19</td>\n",
       "      <td>16</td>\n",
       "      <td>22</td>\n",
       "      <td>13</td>\n",
       "      <td>26</td>\n",
       "      <td>16</td>\n",
       "      <td>15</td>\n",
       "      <td>19</td>\n",
       "      <td>19</td>\n",
       "      <td>0.096479</td>\n",
       "    </tr>\n",
       "    <tr>\n",
       "      <th>22</th>\n",
       "      <td>Michael Thomas</td>\n",
       "      <td>55</td>\n",
       "      <td>2</td>\n",
       "      <td>11</td>\n",
       "      <td>3</td>\n",
       "      <td>51</td>\n",
       "      <td>57</td>\n",
       "      <td>54</td>\n",
       "      <td>56</td>\n",
       "      <td>49</td>\n",
       "      <td>45</td>\n",
       "      <td>53</td>\n",
       "      <td>43</td>\n",
       "      <td>43</td>\n",
       "      <td>0.085932</td>\n",
       "    </tr>\n",
       "    <tr>\n",
       "      <th>23</th>\n",
       "      <td>Aaron Jones</td>\n",
       "      <td>34</td>\n",
       "      <td>2</td>\n",
       "      <td>12</td>\n",
       "      <td>11</td>\n",
       "      <td>43</td>\n",
       "      <td>41</td>\n",
       "      <td>36</td>\n",
       "      <td>40</td>\n",
       "      <td>30</td>\n",
       "      <td>29</td>\n",
       "      <td>37</td>\n",
       "      <td>45</td>\n",
       "      <td>45</td>\n",
       "      <td>0.125548</td>\n",
       "    </tr>\n",
       "  </tbody>\n",
       "</table>\n",
       "</div>"
      ],
      "text/plain": [
       "           player_names  bid_amounts  round_num  round_pick  Unnamed: 0  \\\n",
       "19         Travis Kelce           20          2           8          21   \n",
       "20  Christian McCaffrey           75          2           9           0   \n",
       "21            Zach Ertz           11          2          10          56   \n",
       "22       Michael Thomas           55          2          11           3   \n",
       "23          Aaron Jones           34          2          12          11   \n",
       "\n",
       "    ESPN_Price  ESPN_Avg_Price  Yahoo_Price  Yahoo_Avg_Price  NFLprice  \\\n",
       "19          35              37           43               40        36   \n",
       "20          63              70           64               76        70   \n",
       "21          19              16           22               13        26   \n",
       "22          51              57           54               56        49   \n",
       "23          43              41           36               40        30   \n",
       "\n",
       "    NFL_Avg_Price  Average_Price  Proj_Price  Inflated_Price  sentiment_scores  \n",
       "19             29             35          37              37          0.169759  \n",
       "20             63             69          81              81          0.108964  \n",
       "21             16             15          19              19          0.096479  \n",
       "22             45             53          43              43          0.085932  \n",
       "23             29             37          45              45          0.125548  "
      ]
     },
     "execution_count": 89,
     "metadata": {},
     "output_type": "execute_result"
    }
   ],
   "source": [
    "data.head()"
   ]
  },
  {
   "cell_type": "code",
   "execution_count": null,
   "metadata": {},
   "outputs": [],
   "source": []
  }
 ],
 "metadata": {
  "kernelspec": {
   "display_name": "Python 3",
   "language": "python",
   "name": "python3"
  },
  "language_info": {
   "codemirror_mode": {
    "name": "ipython",
    "version": 3
   },
   "file_extension": ".py",
   "mimetype": "text/x-python",
   "name": "python",
   "nbconvert_exporter": "python",
   "pygments_lexer": "ipython3",
   "version": "3.7.7"
  }
 },
 "nbformat": 4,
 "nbformat_minor": 4
}
