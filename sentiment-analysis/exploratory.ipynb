{
 "cells": [
  {
   "cell_type": "code",
   "execution_count": 2,
   "metadata": {},
   "outputs": [
    {
     "name": "stderr",
     "output_type": "stream",
     "text": [
      "[nltk_data] Downloading package vader_lexicon to\n",
      "[nltk_data]     /home/nick/nltk_data...\n",
      "[nltk_data]   Package vader_lexicon is already up-to-date!\n"
     ]
    }
   ],
   "source": [
    "from nltk.sentiment.vader import SentimentIntensityAnalyzer\n",
    "import nltk\n",
    "\n",
    "\n",
    "nltk.download('vader_lexicon')\n",
    "\n",
    "def sentiment_analysis():\n",
    "    sid = SentimentIntensityAnalyzer()\n",
    "    sid('Hello')"
   ]
  },
  {
   "cell_type": "code",
   "execution_count": 21,
   "metadata": {},
   "outputs": [
    {
     "data": {
      "text/plain": [
       "{'neg': 0.0, 'neu': 0.192, 'pos': 0.808, 'compound': 0.6369}"
      ]
     },
     "execution_count": 21,
     "metadata": {},
     "output_type": "execute_result"
    }
   ],
   "source": [
    "from nltk.sentiment.vader import SentimentIntensityAnalyzer\n",
    "import nltk\n",
    "\n",
    "sid = SentimentIntensityAnalyzer()\n",
    "sid.polarity_scores('I love you')"
   ]
  },
  {
   "cell_type": "code",
   "execution_count": 22,
   "metadata": {},
   "outputs": [],
   "source": [
    "import pandas as pd\n",
    "import numpy as np"
   ]
  },
  {
   "cell_type": "code",
   "execution_count": null,
   "metadata": {},
   "outputs": [],
   "source": []
  },
  {
   "cell_type": "code",
   "execution_count": 13,
   "metadata": {},
   "outputs": [],
   "source": [
    "df = pd.DataFrame(np.empty(10).astype(str), columns=['col1'])\n",
    "df.iloc[6]['col1'] = \"HELLO\""
   ]
  },
  {
   "cell_type": "code",
   "execution_count": 15,
   "metadata": {},
   "outputs": [],
   "source": [
    "a = ['a', 'b', 'c']"
   ]
  },
  {
   "cell_type": "code",
   "execution_count": 16,
   "metadata": {},
   "outputs": [
    {
     "name": "stdout",
     "output_type": "stream",
     "text": [
      "(0, 'a')\n",
      "(1, 'b')\n",
      "(2, 'c')\n"
     ]
    }
   ],
   "source": [
    "for idx,  in enumerate(a):\n",
    "    print(i)"
   ]
  },
  {
   "cell_type": "code",
   "execution_count": 17,
   "metadata": {},
   "outputs": [
    {
     "name": "stdout",
     "output_type": "stream",
     "text": [
      "__pycache__    derekcarr.txt\t  gather_tweets.py  tweets_json.py\r\n",
      "dataframe.csv  exploratory.ipynb  main.py\t    twitter_auth.py\r\n"
     ]
    }
   ],
   "source": [
    "!ls"
   ]
  },
  {
   "cell_type": "code",
   "execution_count": 32,
   "metadata": {},
   "outputs": [],
   "source": [
    "df = pd.read_csv('dataframe.csv')"
   ]
  },
  {
   "cell_type": "code",
   "execution_count": 37,
   "metadata": {},
   "outputs": [
    {
     "data": {
      "text/plain": [
       "'RT @TheUndefeated: \"All you hear is Donald Trump and all of them talking about fear. We\\'re the ones getting killed. ... We’re the ones havi…'"
      ]
     },
     "execution_count": 37,
     "metadata": {},
     "output_type": "execute_result"
    }
   ],
   "source": [
    "df.tweet[29]"
   ]
  },
  {
   "cell_type": "code",
   "execution_count": 34,
   "metadata": {},
   "outputs": [
    {
     "data": {
      "text/plain": [
       "100"
      ]
     },
     "execution_count": 34,
     "metadata": {},
     "output_type": "execute_result"
    }
   ],
   "source": [
    "len(df.tweet.to_list())"
   ]
  },
  {
   "cell_type": "code",
   "execution_count": 35,
   "metadata": {},
   "outputs": [
    {
     "name": "stdout",
     "output_type": "stream",
     "text": [
      "0 {'neg': 0.0, 'neu': 0.707, 'pos': 0.293, 'compound': 0.4404}\n",
      "1 {'neg': 0.0, 'neu': 1.0, 'pos': 0.0, 'compound': 0.0}\n",
      "2 {'neg': 0.0, 'neu': 1.0, 'pos': 0.0, 'compound': 0.0}\n",
      "3 {'neg': 0.0, 'neu': 1.0, 'pos': 0.0, 'compound': 0.0}\n",
      "4 {'neg': 0.0, 'neu': 1.0, 'pos': 0.0, 'compound': 0.0}\n",
      "5 {'neg': 0.0, 'neu': 0.626, 'pos': 0.374, 'compound': 0.6988}\n",
      "6 {'neg': 0.0, 'neu': 0.778, 'pos': 0.222, 'compound': 0.8271}\n",
      "7 {'neg': 0.0, 'neu': 1.0, 'pos': 0.0, 'compound': 0.0}\n",
      "8 {'neg': 0.221, 'neu': 0.625, 'pos': 0.154, 'compound': -0.34}\n",
      "9 {'neg': 0.0, 'neu': 1.0, 'pos': 0.0, 'compound': 0.0}\n",
      "10 {'neg': 0.371, 'neu': 0.629, 'pos': 0.0, 'compound': -0.7096}\n",
      "11 {'neg': 0.0, 'neu': 0.764, 'pos': 0.236, 'compound': 0.7964}\n",
      "12 {'neg': 0.0, 'neu': 0.796, 'pos': 0.204, 'compound': 0.5574}\n",
      "13 {'neg': 0.0, 'neu': 0.943, 'pos': 0.057, 'compound': 0.1779}\n",
      "14 {'neg': 0.0, 'neu': 1.0, 'pos': 0.0, 'compound': 0.0}\n",
      "15 {'neg': 0.152, 'neu': 0.739, 'pos': 0.109, 'compound': -0.25}\n",
      "16 {'neg': 0.0, 'neu': 1.0, 'pos': 0.0, 'compound': 0.0}\n",
      "17 {'neg': 0.0, 'neu': 1.0, 'pos': 0.0, 'compound': 0.0}\n",
      "18 {'neg': 0.054, 'neu': 0.903, 'pos': 0.043, 'compound': -0.1386}\n",
      "19 {'neg': 0.0, 'neu': 1.0, 'pos': 0.0, 'compound': 0.0}\n",
      "20 {'neg': 0.0, 'neu': 0.688, 'pos': 0.312, 'compound': 0.7003}\n",
      "21 {'neg': 0.0, 'neu': 0.633, 'pos': 0.367, 'compound': 0.8442}\n",
      "22 {'neg': 0.0, 'neu': 1.0, 'pos': 0.0, 'compound': 0.0}\n",
      "23 {'neg': 0.066, 'neu': 0.838, 'pos': 0.096, 'compound': 0.0516}\n",
      "24 {'neg': 0.0, 'neu': 1.0, 'pos': 0.0, 'compound': 0.0}\n",
      "25 {'neg': 0.0, 'neu': 1.0, 'pos': 0.0, 'compound': 0.0}\n",
      "26 {'neg': 0.0, 'neu': 0.783, 'pos': 0.217, 'compound': 0.6124}\n",
      "27 {'neg': 0.0, 'neu': 1.0, 'pos': 0.0, 'compound': 0.0}\n",
      "28 {'neg': 0.0, 'neu': 1.0, 'pos': 0.0, 'compound': 0.0}\n",
      "29 {'neg': 0.251, 'neu': 0.749, 'pos': 0.0, 'compound': -0.8271}\n",
      "30 {'neg': 0.0, 'neu': 0.787, 'pos': 0.213, 'compound': 0.2263}\n",
      "31 {'neg': 0.048, 'neu': 0.785, 'pos': 0.166, 'compound': 0.5994}\n",
      "32 {'neg': 0.1, 'neu': 0.9, 'pos': 0.0, 'compound': -0.5994}\n",
      "33 {'neg': 0.0, 'neu': 1.0, 'pos': 0.0, 'compound': 0.0}\n",
      "34 {'neg': 0.0, 'neu': 1.0, 'pos': 0.0, 'compound': 0.0}\n",
      "35 {'neg': 0.0, 'neu': 1.0, 'pos': 0.0, 'compound': 0.0}\n",
      "36 {'neg': 0.0, 'neu': 1.0, 'pos': 0.0, 'compound': 0.0}\n",
      "37 {'neg': 0.222, 'neu': 0.778, 'pos': 0.0, 'compound': -0.5719}\n",
      "38 {'neg': 0.066, 'neu': 0.734, 'pos': 0.199, 'compound': 0.5859}\n",
      "39 {'neg': 0.0, 'neu': 0.942, 'pos': 0.058, 'compound': 0.0772}\n",
      "40 {'neg': 0.0, 'neu': 1.0, 'pos': 0.0, 'compound': 0.0}\n",
      "41 {'neg': 0.289, 'neu': 0.711, 'pos': 0.0, 'compound': -0.743}\n",
      "42 {'neg': 0.0, 'neu': 1.0, 'pos': 0.0, 'compound': 0.0}\n",
      "43 {'neg': 0.0, 'neu': 1.0, 'pos': 0.0, 'compound': 0.0}\n",
      "44 {'neg': 0.066, 'neu': 0.734, 'pos': 0.199, 'compound': 0.5859}\n",
      "45 {'neg': 0.0, 'neu': 1.0, 'pos': 0.0, 'compound': 0.0}\n",
      "46 {'neg': 0.0, 'neu': 1.0, 'pos': 0.0, 'compound': 0.0}\n",
      "47 {'neg': 0.0, 'neu': 1.0, 'pos': 0.0, 'compound': 0.0}\n",
      "48 {'neg': 0.0, 'neu': 1.0, 'pos': 0.0, 'compound': 0.0}\n",
      "49 {'neg': 0.0, 'neu': 0.879, 'pos': 0.121, 'compound': 0.4404}\n",
      "50 {'neg': 0.0, 'neu': 1.0, 'pos': 0.0, 'compound': 0.0}\n",
      "51 {'neg': 0.155, 'neu': 0.695, 'pos': 0.15, 'compound': -0.0534}\n",
      "52 {'neg': 0.0, 'neu': 1.0, 'pos': 0.0, 'compound': 0.0}\n",
      "53 {'neg': 0.0, 'neu': 1.0, 'pos': 0.0, 'compound': 0.0}\n",
      "54 {'neg': 0.0, 'neu': 0.708, 'pos': 0.292, 'compound': 0.7345}\n",
      "55 {'neg': 0.0, 'neu': 1.0, 'pos': 0.0, 'compound': 0.0}\n",
      "56 {'neg': 0.328, 'neu': 0.446, 'pos': 0.226, 'compound': -0.4924}\n",
      "57 {'neg': 0.0, 'neu': 1.0, 'pos': 0.0, 'compound': 0.0}\n",
      "58 {'neg': 0.0, 'neu': 0.914, 'pos': 0.086, 'compound': 0.3871}\n",
      "59 {'neg': 0.0, 'neu': 1.0, 'pos': 0.0, 'compound': 0.0}\n",
      "60 {'neg': 0.0, 'neu': 1.0, 'pos': 0.0, 'compound': 0.0}\n",
      "61 {'neg': 0.0, 'neu': 0.709, 'pos': 0.291, 'compound': 0.8316}\n",
      "62 {'neg': 0.0, 'neu': 1.0, 'pos': 0.0, 'compound': 0.0}\n",
      "63 {'neg': 0.261, 'neu': 0.739, 'pos': 0.0, 'compound': -0.7184}\n",
      "64 {'neg': 0.0, 'neu': 0.714, 'pos': 0.286, 'compound': 0.6808}\n",
      "65 {'neg': 0.286, 'neu': 0.714, 'pos': 0.0, 'compound': -0.7184}\n",
      "66 {'neg': 0.0, 'neu': 1.0, 'pos': 0.0, 'compound': 0.0}\n",
      "67 {'neg': 0.0, 'neu': 1.0, 'pos': 0.0, 'compound': 0.0}\n",
      "68 {'neg': 0.09, 'neu': 0.782, 'pos': 0.129, 'compound': -0.0387}\n",
      "69 {'neg': 0.0, 'neu': 1.0, 'pos': 0.0, 'compound': 0.0}\n",
      "70 {'neg': 0.186, 'neu': 0.672, 'pos': 0.142, 'compound': -0.1358}\n",
      "71 {'neg': 0.0, 'neu': 1.0, 'pos': 0.0, 'compound': 0.0}\n",
      "72 {'neg': 0.0, 'neu': 1.0, 'pos': 0.0, 'compound': 0.0}\n",
      "73 {'neg': 0.141, 'neu': 0.437, 'pos': 0.422, 'compound': 0.9311}\n",
      "74 {'neg': 0.0, 'neu': 1.0, 'pos': 0.0, 'compound': 0.0}\n",
      "75 {'neg': 0.0, 'neu': 1.0, 'pos': 0.0, 'compound': 0.0}\n",
      "76 {'neg': 0.0, 'neu': 0.657, 'pos': 0.343, 'compound': 0.6341}\n",
      "77 {'neg': 0.0, 'neu': 1.0, 'pos': 0.0, 'compound': 0.0}\n",
      "78 {'neg': 0.066, 'neu': 0.734, 'pos': 0.199, 'compound': 0.5859}\n",
      "79 {'neg': 0.0, 'neu': 1.0, 'pos': 0.0, 'compound': 0.0}\n",
      "80 {'neg': 0.0, 'neu': 0.676, 'pos': 0.324, 'compound': 0.6988}\n",
      "81 {'neg': 0.071, 'neu': 0.8, 'pos': 0.129, 'compound': 0.372}\n",
      "82 {'neg': 0.0, 'neu': 1.0, 'pos': 0.0, 'compound': 0.0}\n",
      "83 {'neg': 0.0, 'neu': 1.0, 'pos': 0.0, 'compound': 0.0}\n",
      "84 {'neg': 0.041, 'neu': 0.544, 'pos': 0.415, 'compound': 0.9408}\n",
      "85 {'neg': 0.0, 'neu': 1.0, 'pos': 0.0, 'compound': 0.0}\n",
      "86 {'neg': 0.0, 'neu': 1.0, 'pos': 0.0, 'compound': 0.0}\n",
      "87 {'neg': 0.0, 'neu': 1.0, 'pos': 0.0, 'compound': 0.0}\n",
      "88 {'neg': 0.0, 'neu': 0.463, 'pos': 0.537, 'compound': 0.6841}\n",
      "89 {'neg': 0.0, 'neu': 1.0, 'pos': 0.0, 'compound': 0.0}\n",
      "90 {'neg': 0.0, 'neu': 1.0, 'pos': 0.0, 'compound': 0.0}\n",
      "91 {'neg': 0.0, 'neu': 1.0, 'pos': 0.0, 'compound': 0.0}\n",
      "92 {'neg': 0.0, 'neu': 1.0, 'pos': 0.0, 'compound': 0.0}\n",
      "93 {'neg': 0.0, 'neu': 1.0, 'pos': 0.0, 'compound': 0.0}\n",
      "94 {'neg': 0.0, 'neu': 1.0, 'pos': 0.0, 'compound': 0.0}\n",
      "95 {'neg': 0.0, 'neu': 0.792, 'pos': 0.208, 'compound': 0.6124}\n",
      "96 {'neg': 0.0, 'neu': 0.798, 'pos': 0.202, 'compound': 0.5859}\n",
      "97 {'neg': 0.0, 'neu': 1.0, 'pos': 0.0, 'compound': 0.0}\n",
      "98 {'neg': 0.066, 'neu': 0.734, 'pos': 0.199, 'compound': 0.5859}\n",
      "99 {'neg': 0.0, 'neu': 1.0, 'pos': 0.0, 'compound': 0.0}\n"
     ]
    }
   ],
   "source": [
    "for i in range(len(df.tweet.to_list())):\n",
    "    print(i, sid.polarity_scores(df.tweet[i]))"
   ]
  },
  {
   "cell_type": "code",
   "execution_count": null,
   "metadata": {},
   "outputs": [],
   "source": []
  }
 ],
 "metadata": {
  "kernelspec": {
   "display_name": "Python 3",
   "language": "python",
   "name": "python3"
  },
  "language_info": {
   "codemirror_mode": {
    "name": "ipython",
    "version": 3
   },
   "file_extension": ".py",
   "mimetype": "text/x-python",
   "name": "python",
   "nbconvert_exporter": "python",
   "pygments_lexer": "ipython3",
   "version": "3.7.7"
  }
 },
 "nbformat": 4,
 "nbformat_minor": 4
}
