{
 "cells": [
  {
   "cell_type": "code",
   "execution_count": 106,
   "metadata": {},
   "outputs": [],
   "source": [
    "import pandas as pd\n",
    "import os\n",
    "import re\n",
    "from textblob import TextBlob \n",
    "import numpy as np\n",
    "from tqdm import tqdm"
   ]
  },
  {
   "cell_type": "code",
   "execution_count": 79,
   "metadata": {},
   "outputs": [],
   "source": [
    "original_data = pd.read_csv(\"./data/fantasy_football_auction_values.csv\")"
   ]
  },
  {
   "cell_type": "code",
   "execution_count": 80,
   "metadata": {},
   "outputs": [],
   "source": [
    "player_names = list(original_data.Player_Names)"
   ]
  },
  {
   "cell_type": "code",
   "execution_count": 88,
   "metadata": {},
   "outputs": [],
   "source": [
    "original_data['sentiment_scores'] = np.zeros(original_data.shape[0])"
   ]
  },
  {
   "cell_type": "code",
   "execution_count": 89,
   "metadata": {},
   "outputs": [
    {
     "data": {
      "text/html": [
       "<div>\n",
       "<style scoped>\n",
       "    .dataframe tbody tr th:only-of-type {\n",
       "        vertical-align: middle;\n",
       "    }\n",
       "\n",
       "    .dataframe tbody tr th {\n",
       "        vertical-align: top;\n",
       "    }\n",
       "\n",
       "    .dataframe thead th {\n",
       "        text-align: right;\n",
       "    }\n",
       "</style>\n",
       "<table border=\"1\" class=\"dataframe\">\n",
       "  <thead>\n",
       "    <tr style=\"text-align: right;\">\n",
       "      <th></th>\n",
       "      <th>Player_Names</th>\n",
       "      <th>ESPN_Price</th>\n",
       "      <th>ESPN_Avg_Price</th>\n",
       "      <th>Yahoo_Price</th>\n",
       "      <th>Yahoo_Avg_Price</th>\n",
       "      <th>NFLprice</th>\n",
       "      <th>NFL_Avg_Price</th>\n",
       "      <th>Average_Price</th>\n",
       "      <th>Proj_Price</th>\n",
       "      <th>Inflated_Price</th>\n",
       "      <th>sentiment_scores</th>\n",
       "    </tr>\n",
       "  </thead>\n",
       "  <tbody>\n",
       "    <tr>\n",
       "      <th>0</th>\n",
       "      <td>Christian McCaffrey</td>\n",
       "      <td>63</td>\n",
       "      <td>70</td>\n",
       "      <td>64</td>\n",
       "      <td>76</td>\n",
       "      <td>70</td>\n",
       "      <td>63</td>\n",
       "      <td>69</td>\n",
       "      <td>81</td>\n",
       "      <td>81</td>\n",
       "      <td>0.0</td>\n",
       "    </tr>\n",
       "    <tr>\n",
       "      <th>1</th>\n",
       "      <td>Saquon Barkley</td>\n",
       "      <td>60</td>\n",
       "      <td>61</td>\n",
       "      <td>62</td>\n",
       "      <td>71</td>\n",
       "      <td>67</td>\n",
       "      <td>56</td>\n",
       "      <td>63</td>\n",
       "      <td>72</td>\n",
       "      <td>72</td>\n",
       "      <td>0.0</td>\n",
       "    </tr>\n",
       "    <tr>\n",
       "      <th>2</th>\n",
       "      <td>Ezekiel Elliott</td>\n",
       "      <td>60</td>\n",
       "      <td>58</td>\n",
       "      <td>55</td>\n",
       "      <td>64</td>\n",
       "      <td>52</td>\n",
       "      <td>45</td>\n",
       "      <td>56</td>\n",
       "      <td>67</td>\n",
       "      <td>67</td>\n",
       "      <td>0.0</td>\n",
       "    </tr>\n",
       "    <tr>\n",
       "      <th>3</th>\n",
       "      <td>Michael Thomas</td>\n",
       "      <td>51</td>\n",
       "      <td>57</td>\n",
       "      <td>54</td>\n",
       "      <td>56</td>\n",
       "      <td>49</td>\n",
       "      <td>45</td>\n",
       "      <td>53</td>\n",
       "      <td>43</td>\n",
       "      <td>43</td>\n",
       "      <td>0.0</td>\n",
       "    </tr>\n",
       "    <tr>\n",
       "      <th>4</th>\n",
       "      <td>Dalvin Cook</td>\n",
       "      <td>59</td>\n",
       "      <td>51</td>\n",
       "      <td>54</td>\n",
       "      <td>58</td>\n",
       "      <td>50</td>\n",
       "      <td>37</td>\n",
       "      <td>49</td>\n",
       "      <td>57</td>\n",
       "      <td>57</td>\n",
       "      <td>0.0</td>\n",
       "    </tr>\n",
       "  </tbody>\n",
       "</table>\n",
       "</div>"
      ],
      "text/plain": [
       "          Player_Names  ESPN_Price  ESPN_Avg_Price  Yahoo_Price  \\\n",
       "0  Christian McCaffrey          63              70           64   \n",
       "1       Saquon Barkley          60              61           62   \n",
       "2      Ezekiel Elliott          60              58           55   \n",
       "3       Michael Thomas          51              57           54   \n",
       "4          Dalvin Cook          59              51           54   \n",
       "\n",
       "   Yahoo_Avg_Price  NFLprice  NFL_Avg_Price  Average_Price  Proj_Price  \\\n",
       "0               76        70             63             69          81   \n",
       "1               71        67             56             63          72   \n",
       "2               64        52             45             56          67   \n",
       "3               56        49             45             53          43   \n",
       "4               58        50             37             49          57   \n",
       "\n",
       "   Inflated_Price  sentiment_scores  \n",
       "0              81               0.0  \n",
       "1              72               0.0  \n",
       "2              67               0.0  \n",
       "3              43               0.0  \n",
       "4              57               0.0  "
      ]
     },
     "execution_count": 89,
     "metadata": {},
     "output_type": "execute_result"
    }
   ],
   "source": [
    "original_data.head()"
   ]
  },
  {
   "cell_type": "code",
   "execution_count": 112,
   "metadata": {},
   "outputs": [
    {
     "name": "stderr",
     "output_type": "stream",
     "text": [
      "2it [00:00, 19.00it/s]"
     ]
    },
    {
     "name": "stdout",
     "output_type": "stream",
     "text": [
      "Christian McCaffrey: 0.1089638622247318\n",
      "Saquon Barkley: 0.09061561561561561\n",
      "Ezekiel Elliott: 0.13597569444444443\n"
     ]
    },
    {
     "name": "stderr",
     "output_type": "stream",
     "text": [
      "4it [00:00, 17.15it/s]/home/nick/anaconda3/envs/fantasy-football/lib/python3.7/site-packages/numpy/core/fromnumeric.py:3373: RuntimeWarning: Mean of empty slice.\n",
      "  out=out, **kwargs)\n",
      "/home/nick/anaconda3/envs/fantasy-football/lib/python3.7/site-packages/numpy/core/_methods.py:170: RuntimeWarning: invalid value encountered in double_scalars\n",
      "  ret = ret.dtype.type(ret / rcount)\n",
      "6it [00:00, 16.96it/s]"
     ]
    },
    {
     "name": "stdout",
     "output_type": "stream",
     "text": [
      "Michael Thomas: 0.08593168290043289\n",
      "Dalvin Cook: nan\n",
      "Alvin Kamara: 0.09273255813953489\n",
      "Davante Adams: 0.09869791666666666\n"
     ]
    },
    {
     "name": "stderr",
     "output_type": "stream",
     "text": [
      "10it [00:00, 16.50it/s]"
     ]
    },
    {
     "name": "stdout",
     "output_type": "stream",
     "text": [
      "Derrick Henry: 0.05097740800865801\n",
      "Julio Jones: 0.09242230983302412\n",
      "Miles Sanders: 0.12521825396825395\n"
     ]
    },
    {
     "name": "stderr",
     "output_type": "stream",
     "text": [
      "15it [00:00, 17.92it/s]"
     ]
    },
    {
     "name": "stdout",
     "output_type": "stream",
     "text": [
      "Clyde Edwards-Helaire: 0.08868471953578334\n",
      "Aaron Jones: 0.12554824561403505\n",
      "Joe Mixon: nan\n",
      "Josh Jacobs: 0.12500858000858\n",
      "Tyreek Hill: 0.20897988505747128\n"
     ]
    },
    {
     "name": "stderr",
     "output_type": "stream",
     "text": [
      "\r",
      "18it [00:01, 17.55it/s]"
     ]
    },
    {
     "name": "stdout",
     "output_type": "stream",
     "text": [
      "Austin Ekeler: 0.047108360389610394\n",
      "Kenyan Drake: 0.061111111111111116\n",
      "DeAndre Hopkins: 0.2023336385836386\n",
      "Nick Chubb: 0.13020937395937396\n"
     ]
    },
    {
     "name": "stderr",
     "output_type": "stream",
     "text": [
      "23it [00:01, 18.79it/s]"
     ]
    },
    {
     "name": "stdout",
     "output_type": "stream",
     "text": [
      "Lamar Jackson: 0.1760321468654802\n",
      "Kenny Golladay: 0.00225694444444444\n",
      "Travis Kelce: 0.1697585978835979\n",
      "Chris Godwin: 0.09018703703703704\n",
      "Leonard Fournette: 0.01849173553719009\n"
     ]
    },
    {
     "name": "stderr",
     "output_type": "stream",
     "text": [
      "32it [00:01, 25.83it/s]"
     ]
    },
    {
     "name": "stdout",
     "output_type": "stream",
     "text": [
      "Le'Veon Bell: 0.08518518518518518\n",
      "Todd Gurley II: nan\n",
      "Mike Evans: 0.0896626984126984\n",
      "Patrick Mahomes: 0.13302308802308804\n",
      "Chris Carson: 0.25\n",
      "DJ Moore: -0.1\n",
      "Odell Beckham Jr.: 0.07948948670377243\n",
      "Amari Cooper: 0.031578947368421054\n",
      "Adam Thielen: 0.1714726345083488\n"
     ]
    },
    {
     "name": "stderr",
     "output_type": "stream",
     "text": [
      "\r",
      "35it [00:01, 26.73it/s]"
     ]
    },
    {
     "name": "stdout",
     "output_type": "stream",
     "text": [
      "Robert Woods: 0.04563492063492063\n",
      "George Kittle: 0.11764249639249638\n",
      "Cooper Kupp: 0.04109987234987235\n",
      "JuJu Smith-Schuster: 0.22619572346845074\n",
      "Allen Robinson II: 0.07333333333333333\n"
     ]
    },
    {
     "name": "stderr",
     "output_type": "stream",
     "text": [
      "42it [00:02, 20.51it/s]"
     ]
    },
    {
     "name": "stdout",
     "output_type": "stream",
     "text": [
      "A.J. Brown: 0.07888711090496804\n",
      "David Johnson: 0.09089088097360157\n",
      "Courtland Sutton: 0.061965811965811954\n",
      "James Conner: 0.014948830409356718\n"
     ]
    },
    {
     "name": "stderr",
     "output_type": "stream",
     "text": [
      "52it [00:02, 28.24it/s]"
     ]
    },
    {
     "name": "stdout",
     "output_type": "stream",
     "text": [
      "Calvin Ridley: 0.1189636512912375\n",
      "DeVante Parker: 0.07623286435786435\n",
      "Keenan Allen: 0.10907287157287157\n",
      "Tyler Lockett: 0.24365942028985504\n",
      "Terry McLaurin: 0.22137252441600266\n",
      "DJ Chark Jr.: nan\n",
      "T.Y. Hilton: 0.08427936507936507\n",
      "Stefon Diggs: 0.1938627344877345\n",
      "Devin Singletary: 0.11118055555555557\n",
      "DK Metcalf: 0.07490740740740741\n",
      "A.J. Green: -0.0015600823743025566\n"
     ]
    },
    {
     "name": "stderr",
     "output_type": "stream",
     "text": [
      "\r",
      "56it [00:02, 17.35it/s]"
     ]
    },
    {
     "name": "stdout",
     "output_type": "stream",
     "text": [
      "Dak Prescott: 0.04717789844982826\n",
      "Jarvis Landry: 0.060256410256410264\n",
      "Zach Ertz: 0.09647873495989305\n",
      "Russell Wilson: 0.16388822751322754\n"
     ]
    },
    {
     "name": "stderr",
     "output_type": "stream",
     "text": [
      "62it [00:03, 18.96it/s]"
     ]
    },
    {
     "name": "stdout",
     "output_type": "stream",
     "text": [
      "David Montgomery: 0.050405844155844155\n",
      "Tyler Boyd: 0.046688988095238096\n",
      "Michael Gallup: -0.061740855762594915\n",
      "Julian Edelman: 0.09587356484095615\n",
      "Deshaun Watson: 0.14950709013209013\n",
      "D'Andre Swift: 0.020064847077042206\n"
     ]
    },
    {
     "name": "stderr",
     "output_type": "stream",
     "text": [
      "68it [00:03, 22.40it/s]"
     ]
    },
    {
     "name": "stdout",
     "output_type": "stream",
     "text": [
      "Raheem Mostert: 0.005580607663940998\n",
      "Mark Ingram II: 0.038888888888888896\n",
      "Marquise Brown: 0.15894097222222223\n",
      "Mark Andrews: 0.11329183451579286\n",
      "Brandin Cooks: 0.1135171520398793\n",
      "Jonathan Taylor: 0.04759722222222223\n",
      "Kareem Hunt: 0.09715536576949621\n"
     ]
    },
    {
     "name": "stderr",
     "output_type": "stream",
     "text": [
      "76it [00:03, 27.84it/s]"
     ]
    },
    {
     "name": "stdout",
     "output_type": "stream",
     "text": [
      "Marvin Jones Jr.: 0.0\n",
      "Will Fuller V: 0.13562300494118673\n",
      "Darren Waller: 0.26194616977225677\n",
      "Kyler Murray: 0.0780143989821409\n",
      "Christian Kirk: 0.008024469046878011\n",
      "Ronald Jones II: 0.0\n",
      "Cam Akers: 0.04212908303817395\n"
     ]
    },
    {
     "name": "stderr",
     "output_type": "stream",
     "text": [
      "83it [00:03, 24.74it/s]"
     ]
    },
    {
     "name": "stdout",
     "output_type": "stream",
     "text": [
      "John Brown: 0.08192907027867966\n",
      "Josh Allen: 0.1326482213438735\n",
      "Sterling Shepard: 0.1909126984126984\n",
      "Emmanuel Sanders: 0.13972093382807668\n",
      "Diontae Johnson: 0.09411976911976913\n"
     ]
    },
    {
     "name": "stderr",
     "output_type": "stream",
     "text": [
      "\r",
      "86it [00:03, 20.50it/s]"
     ]
    },
    {
     "name": "stdout",
     "output_type": "stream",
     "text": [
      "Darius Slayton: 0.23124999999999998\n",
      "Golden Tate: 0.17560096153846153\n",
      "Deebo Samuel: -0.0012931001746791194\n",
      "Jamison Crowder: 0.02109638047138047\n",
      "Anthony Miller: 0.05829541446208112\n"
     ]
    },
    {
     "name": "stderr",
     "output_type": "stream",
     "text": [
      "92it [00:04, 22.00it/s]"
     ]
    },
    {
     "name": "stdout",
     "output_type": "stream",
     "text": [
      "Drew Brees: 0.07835923721340389\n",
      "Jerry Jeudy: 0.111750184569952\n",
      "Evan Engram: -0.1775544436776321\n",
      "Mike Williams: 0.15005555555555555\n"
     ]
    },
    {
     "name": "stderr",
     "output_type": "stream",
     "text": [
      "98it [00:04, 22.02it/s]"
     ]
    },
    {
     "name": "stdout",
     "output_type": "stream",
     "text": [
      "Tom Brady: 0.05187564419707276\n",
      "Justin Jefferson: 0.0024660524660524677\n",
      "Tarik Cohen: 0.04621212121212123\n",
      "Matt Ryan: 0.07250259000259002\n",
      "Carson Wentz: 0.052462737127371276\n"
     ]
    },
    {
     "name": "stderr",
     "output_type": "stream",
     "text": [
      "\r",
      "101it [00:04, 23.60it/s]"
     ]
    },
    {
     "name": "stdout",
     "output_type": "stream",
     "text": [
      "Breshad Perriman: 0.13958141321044545\n",
      "Jared Cook: -0.05096513605442176\n",
      "Aaron Rodgers: 0.14889932762273186\n",
      "James White: 0.08473920945439932\n",
      "CeeDee Lamb: 0.08481632653061225\n"
     ]
    },
    {
     "name": "stderr",
     "output_type": "stream",
     "text": [
      "110it [00:04, 27.82it/s]"
     ]
    },
    {
     "name": "stdout",
     "output_type": "stream",
     "text": [
      "Robby Anderson: 0.03766233766233766\n",
      "Hunter Henry: nan\n",
      "Curtis Samuel: 0.1393181818181818\n",
      "Tyler Higbee: 0.31428571428571433\n",
      "Rob Gronkowski: 0.060850743459439104\n",
      "Hayden Hurst: -0.05193001443001443\n",
      "Preston Williams: 0.13634259259259257\n",
      "Allen Lazard: 0.08018973214285716\n",
      "Jalen Reagor: 0.04506172839506172\n"
     ]
    },
    {
     "name": "stderr",
     "output_type": "stream",
     "text": [
      "118it [00:05, 30.46it/s]"
     ]
    },
    {
     "name": "stdout",
     "output_type": "stream",
     "text": [
      "Sammy Watkins: 0.09495550745550745\n",
      "Phillip Lindsay: -0.16732804232804233\n",
      "Austin Hooper: 0.007756542699724516\n",
      "Henry Ruggs III: 0.10060599378360216\n",
      "J.K. Dobbins: 0.09594356261022927\n",
      "Matt Breida: -0.03689236111111111\n",
      "DeSean Jackson: 0.11504629629629631\n"
     ]
    },
    {
     "name": "stderr",
     "output_type": "stream",
     "text": [
      "127it [00:05, 33.06it/s]"
     ]
    },
    {
     "name": "stdout",
     "output_type": "stream",
     "text": [
      "Noah Fant: 0.014541637911203132\n",
      "Marlon Mack: 0.023611111111111114\n",
      "Tevin Coleman: -0.10690476190476188\n",
      "Cam Newton: 0.13586382728022342\n",
      "Latavius Murray: 0.35142045454545456\n",
      "Hunter Renfrow: 0.25453512194252936\n"
     ]
    },
    {
     "name": "stderr",
     "output_type": "stream",
     "text": [
      "139it [00:05, 39.86it/s]"
     ]
    },
    {
     "name": "stdout",
     "output_type": "stream",
     "text": [
      "Kerryon Johnson: 0.003801020408163258\n",
      "Dede Westbrook: 0.08385416666666667\n",
      "Mecole Hardman: 0.05789473684210527\n",
      "Alshon Jeffery: -0.06231398809523808\n",
      "Matthew Stafford: 0.0039186507936507875\n",
      "T.J. Hockenson: 0.08061224489795918\n",
      "N'Keal Harry: 0.07517526455026455\n",
      "Antonio Gibson: 0.03847826086956522\n",
      "Parris Campbell: 0.13827985739750442\n"
     ]
    },
    {
     "name": "stderr",
     "output_type": "stream",
     "text": [
      "151it [00:05, 46.22it/s]"
     ]
    },
    {
     "name": "stdout",
     "output_type": "stream",
     "text": [
      "Larry Fitzgerald: 0.15270337301587303\n",
      "Brandon Aiyuk: 0.03952752976190477\n",
      "Duke Johnson: 0.11385675955988456\n",
      "Sony Michel: 0.12358706108706106\n",
      "Randall Cobb: 0.14032828282828283\n",
      "Dallas Goedert: 0.16456944444444443\n"
     ]
    },
    {
     "name": "stderr",
     "output_type": "stream",
     "text": [
      "\r",
      "159it [00:05, 50.63it/s]"
     ]
    },
    {
     "name": "stdout",
     "output_type": "stream",
     "text": [
      "Jack Doyle: 0.09361111111111112\n",
      "Baker Mayfield: 0.0842517006802721\n",
      "Eric Ebron: 0.041988335738335734\n",
      "Chris Herndon: 0.14060185185185187\n",
      "Adrian Peterson: 0.03310670870735806\n",
      "Ke'Shawn Vaughn: -0.03333333333333333\n",
      "Mohamed Sanu Sr.: nan\n",
      "Boston Scott: 0.07451836662362979\n"
     ]
    },
    {
     "name": "stderr",
     "output_type": "stream",
     "text": [
      "174it [00:06, 53.93it/s]"
     ]
    },
    {
     "name": "stdout",
     "output_type": "stream",
     "text": [
      "Nyheim Hines: 0.15253030303030304\n",
      "Greg Olsen: 0.0209508881922675\n",
      "Ben Roethlisberger: 0.16909415584415582\n",
      "Zack Moss: 0.08224637681159419\n",
      "Justin Jackson: 0.12037250384024575\n",
      "Darrell Henderson Jr.: 0.7\n",
      "Jamaal Williams: 0.19697712418300653\n",
      "Alexander Mattison: 0.19444444444444442\n"
     ]
    },
    {
     "name": "stderr",
     "output_type": "stream",
     "text": [
      "192it [00:06, 66.14it/s]"
     ]
    },
    {
     "name": "stdout",
     "output_type": "stream",
     "text": [
      "Antonio Brown: 0.08677536231884057\n",
      "Tony Pollard: 0.18356929292929294\n",
      "Chase Edmonds: 0.1142857142857143\n",
      "Jimmy Garoppolo: 0.11404220779220779\n",
      "Damien Harris: 0.0765873015873016\n",
      "Joe Burrow: 0.12321453623536954\n",
      "Chris Thompson: 0.018946452098626013\n",
      "AJ Dillon: 0.12894736842105264\n",
      "Ryquell Armstead: 0.0\n"
     ]
    },
    {
     "name": "stderr",
     "output_type": "stream",
     "text": [
      "247it [00:06, 100.79it/s]"
     ]
    },
    {
     "name": "stdout",
     "output_type": "stream",
     "text": [
      "Carlos Hyde: 0.08607993197278911\n",
      "Harrison Butker: 0.15833333333333333\n",
      "Justin Tucker: -0.1108058608058608\n",
      "Benny Snell Jr.: 0.01296296296296296\n",
      "Wil Lutz: -0.1\n",
      "Rashaad Penny: 0.30000000000000004\n",
      "Greg Zuerlein: 0.15226423902894493\n",
      "DeAndre Washington: 0.15\n",
      "Robbie Gould: 0.19444444444444448\n",
      "Matt Gay: 0.1841203703703704\n",
      "Matt Prater: 0.05499999999999998\n"
     ]
    },
    {
     "name": "stderr",
     "output_type": "stream",
     "text": [
      "387it [00:06, 56.91it/s] "
     ]
    },
    {
     "name": "stdout",
     "output_type": "stream",
     "text": [
      "Derek Carr: 0.18031269325912178\n",
      "Zane Gonzalez: 0.07216117216117215\n",
      "Ka'imi Fairbairn: 0.0\n",
      "Younghoe Koo: 0.16286676286676288\n",
      "Jason Myers: 0.04004753416518122\n",
      "Chris Boswell: 0.20000000000000004\n",
      "Andy Isabella: nan\n",
      "Cameron Brate: nan\n",
      "Tua Tagovailoa: 0.013185913185913174\n",
      "Trent Taylor: 0.06689003126503126\n"
     ]
    },
    {
     "name": "stderr",
     "output_type": "stream",
     "text": [
      "\n"
     ]
    }
   ],
   "source": [
    "for idx, name in tqdm(enumerate(player_names)):\n",
    "    path_to_tweets = f\"./sentiment-analysis/twitter/output/16-09-2020_{name}_tweets.csv\"\n",
    "    if os.path.exists(path_to_tweets):\n",
    "        player_sentiment_score = get_sentiment_analysis_on_dataframe(path_to_tweets)\n",
    "        print(f'{name}: {player_sentiment_score}')\n",
    "        original_data['sentiment_scores'].iloc[idx] = player_sentiment_score"
   ]
  },
  {
   "cell_type": "code",
   "execution_count": 113,
   "metadata": {},
   "outputs": [
    {
     "data": {
      "text/plain": [
       "array([ 0.10896386,  0.09061562,  0.13597569,  0.08593168,         nan,\n",
       "        0.09273256,  0.09869792,  0.05097741,  0.09242231,  0.12521825,\n",
       "        0.08868472,  0.12554825,  0.12500858,  0.20897989,  0.04710836,\n",
       "        0.06111111,  0.20233364,  0.13020937,  0.17603215,  0.00225694,\n",
       "        0.1697586 ,  0.09018704,  0.01849174,  0.08518519,  0.0896627 ,\n",
       "        0.13302309,  0.25      , -0.1       ,  0.07948949,  0.03157895,\n",
       "        0.17147263,  0.04563492,  0.1176425 ,  0.04109987,  0.22619572,\n",
       "        0.07333333,  0.07888711,  0.09089088,  0.06196581,  0.01494883,\n",
       "        0.11896365,  0.07623286,  0.        ,  0.10907287,  0.24365942,\n",
       "        0.22137252,  0.08427937,  0.19386273,  0.11118056,  0.07490741,\n",
       "       -0.00156008,  0.0471779 ,  0.06025641,  0.09647873,  0.16388823,\n",
       "        0.05040584,  0.04668899, -0.06174086,  0.09587356,  0.14950709,\n",
       "        0.02006485,  0.00558061,  0.03888889,  0.15894097,  0.11329183,\n",
       "        0.11351715,  0.04759722,  0.09715537,  0.135623  ,  0.26194617,\n",
       "        0.0780144 ,  0.00802447,  0.04212908,  0.08192907,  0.13264822,\n",
       "        0.1909127 ,  0.13972093,  0.09411977,  0.23125   ,  0.17560096,\n",
       "       -0.0012931 ,  0.02109638,  0.05829541,  0.07835924,  0.11175018,\n",
       "       -0.17755444,  0.15005556,  0.05187564,  0.00246605,  0.04621212,\n",
       "        0.07250259,  0.05246274,  0.13958141, -0.05096514,  0.14889933,\n",
       "        0.08473921,  0.08481633,  0.03766234,  0.13931818,  0.31428571,\n",
       "        0.06085074, -0.05193001,  0.13634259,  0.08018973,  0.04506173,\n",
       "        0.09495551, -0.16732804,  0.00775654,  0.10060599,  0.09594356,\n",
       "       -0.03689236,  0.1150463 ,  0.01454164,  0.02361111, -0.10690476,\n",
       "        0.13586383,  0.35142045,  0.25453512,  0.00380102,  0.08385417,\n",
       "        0.05789474, -0.06231399,  0.00391865,  0.08061224,  0.07517526,\n",
       "        0.03847826,  0.13827986,  0.15270337,  0.03952753,  0.11385676,\n",
       "        0.12358706,  0.14032828,  0.16456944,  0.09361111,  0.0842517 ,\n",
       "        0.04198834,  0.14060185,  0.03310671, -0.03333333,  0.07451837,\n",
       "        0.1525303 ,  0.02095089,  0.16909416,  0.08224638,  0.1203725 ,\n",
       "        0.7       ,  0.19697712,  0.19444444,  0.08677536,  0.18356929,\n",
       "        0.11428571,  0.11404221,  0.0765873 ,  0.12321454,  0.01894645,\n",
       "        0.12894737,  0.08607993,  0.15833333, -0.11080586,  0.01296296,\n",
       "        0.3       ,  0.15226424,  0.15      ,  0.19444444,  0.18412037,\n",
       "        0.055     ,  0.18031269,  0.07216117,  0.16286676,  0.04004753,\n",
       "        0.2       ,  0.01318591,  0.06689003])"
      ]
     },
     "execution_count": 113,
     "metadata": {},
     "output_type": "execute_result"
    }
   ],
   "source": [
    "original_data['sentiment_scores'].unique()"
   ]
  },
  {
   "cell_type": "code",
   "execution_count": 111,
   "metadata": {},
   "outputs": [],
   "source": [
    "def get_sentiment_analysis_on_dataframe(path_to_tweets):\n",
    "    player_tweets_df = pd.read_csv(path_to_tweets, index_col=0)\n",
    "    player_tweets_df = player_tweets_df.reset_index()\n",
    "    sentiment = []\n",
    "    for idx, row in player_tweets_df.iterrows():\n",
    "        sentiment.append(get_tweet_sentiment(row['tweet']))\n",
    "    return np.mean(sentiment)\n",
    "        \n",
    "def get_tweet_sentiment(tweet): \n",
    "    ''' \n",
    "    Utility function to classify sentiment of passed tweet \n",
    "    using textblob's sentiment method \n",
    "    '''\n",
    "    # create TextBlob object of passed tweet text \n",
    "    analysis = TextBlob(clean_tweet(tweet)) \n",
    "    \n",
    "    # polarity > 0 is positive\n",
    "    # polarity == 0 is neutral\n",
    "    # polarity < 0 is negative\n",
    "    \n",
    "    # set sentiment \n",
    "    return analysis.sentiment.polarity\n",
    "\n",
    "def clean_tweet(tweet): \n",
    "    ''' \n",
    "    Utility function to clean tweet text by removing links, special characters \n",
    "    using simple regex statements. \n",
    "    '''\n",
    "    return ' '.join(re.sub(\"(@[A-Za-z0-9]+)|([^0-9A-Za-z \\t]) |(\\w+:\\/\\/\\S+)\", \" \", tweet).split()) \n"
   ]
  },
  {
   "cell_type": "code",
   "execution_count": 86,
   "metadata": {},
   "outputs": [
    {
     "data": {
      "text/plain": [
       "(31, 3)"
      ]
     },
     "execution_count": 86,
     "metadata": {},
     "output_type": "execute_result"
    }
   ],
   "source": [
    "data.shape"
   ]
  },
  {
   "cell_type": "code",
   "execution_count": 87,
   "metadata": {},
   "outputs": [],
   "source": [
    "data['random'] = np.zeros(data.shape[0])"
   ]
  },
  {
   "cell_type": "code",
   "execution_count": 91,
   "metadata": {},
   "outputs": [
    {
     "name": "stderr",
     "output_type": "stream",
     "text": [
      "/home/nick/anaconda3/envs/fantasy-football/lib/python3.7/site-packages/pandas/core/indexing.py:670: SettingWithCopyWarning: \n",
      "A value is trying to be set on a copy of a slice from a DataFrame\n",
      "\n",
      "See the caveats in the documentation: https://pandas.pydata.org/pandas-docs/stable/user_guide/indexing.html#returning-a-view-versus-a-copy\n",
      "  iloc._setitem_with_indexer(indexer, value)\n"
     ]
    }
   ],
   "source": [
    "data['random'].iloc[5] = 10"
   ]
  },
  {
   "cell_type": "code",
   "execution_count": 94,
   "metadata": {},
   "outputs": [],
   "source": [
    "data.loc[:, 5] = 10"
   ]
  },
  {
   "cell_type": "code",
   "execution_count": 100,
   "metadata": {},
   "outputs": [],
   "source": [
    "data = data.reset_index()"
   ]
  },
  {
   "cell_type": "code",
   "execution_count": 101,
   "metadata": {},
   "outputs": [
    {
     "name": "stdout",
     "output_type": "stream",
     "text": [
      "0\n",
      "1\n",
      "2\n",
      "3\n",
      "4\n",
      "5\n",
      "6\n",
      "7\n",
      "8\n",
      "9\n",
      "10\n",
      "11\n",
      "12\n",
      "13\n",
      "14\n",
      "15\n",
      "16\n",
      "17\n",
      "18\n",
      "19\n",
      "20\n",
      "21\n",
      "22\n",
      "23\n",
      "24\n",
      "25\n",
      "26\n",
      "27\n",
      "28\n",
      "29\n",
      "30\n"
     ]
    }
   ],
   "source": [
    "for idx, row in data.iterrows():\n",
    "    print(idx)\n",
    "    data['random'].iloc[idx] = idx"
   ]
  },
  {
   "cell_type": "code",
   "execution_count": 102,
   "metadata": {},
   "outputs": [
    {
     "data": {
      "text/html": [
       "<div>\n",
       "<style scoped>\n",
       "    .dataframe tbody tr th:only-of-type {\n",
       "        vertical-align: middle;\n",
       "    }\n",
       "\n",
       "    .dataframe tbody tr th {\n",
       "        vertical-align: top;\n",
       "    }\n",
       "\n",
       "    .dataframe thead th {\n",
       "        text-align: right;\n",
       "    }\n",
       "</style>\n",
       "<table border=\"1\" class=\"dataframe\">\n",
       "  <thead>\n",
       "    <tr style=\"text-align: right;\">\n",
       "      <th></th>\n",
       "      <th>index</th>\n",
       "      <th>tweet</th>\n",
       "      <th>num_retweets</th>\n",
       "      <th>num_favorites</th>\n",
       "      <th>random</th>\n",
       "      <th>5</th>\n",
       "    </tr>\n",
       "  </thead>\n",
       "  <tbody>\n",
       "    <tr>\n",
       "      <th>0</th>\n",
       "      <td>0</td>\n",
       "      <td>RT @TheUndefeated: Cam Newton, Teddy Bridgewat...</td>\n",
       "      <td>11610</td>\n",
       "      <td>0</td>\n",
       "      <td>0.0</td>\n",
       "      <td>10</td>\n",
       "    </tr>\n",
       "    <tr>\n",
       "      <th>1</th>\n",
       "      <td>1</td>\n",
       "      <td>RT @soonergridiron: Chris Berman calls Kyler M...</td>\n",
       "      <td>89</td>\n",
       "      <td>0</td>\n",
       "      <td>1.0</td>\n",
       "      <td>10</td>\n",
       "    </tr>\n",
       "    <tr>\n",
       "      <th>2</th>\n",
       "      <td>3</td>\n",
       "      <td>RT @AZCardinals: There have been three games i...</td>\n",
       "      <td>263</td>\n",
       "      <td>0</td>\n",
       "      <td>2.0</td>\n",
       "      <td>10</td>\n",
       "    </tr>\n",
       "    <tr>\n",
       "      <th>3</th>\n",
       "      <td>4</td>\n",
       "      <td>RT @RealJayWilliams: I see you @UKCoachCalipar...</td>\n",
       "      <td>1157</td>\n",
       "      <td>0</td>\n",
       "      <td>3.0</td>\n",
       "      <td>10</td>\n",
       "    </tr>\n",
       "    <tr>\n",
       "      <th>4</th>\n",
       "      <td>5</td>\n",
       "      <td>RT @AZCardinals: \"Kyler Murray is the 𝙍𝙚𝙖𝙡 𝘿𝙚𝙖...</td>\n",
       "      <td>129</td>\n",
       "      <td>0</td>\n",
       "      <td>4.0</td>\n",
       "      <td>10</td>\n",
       "    </tr>\n",
       "    <tr>\n",
       "      <th>5</th>\n",
       "      <td>13</td>\n",
       "      <td>RT @FourVerts: where are the people that said ...</td>\n",
       "      <td>106</td>\n",
       "      <td>0</td>\n",
       "      <td>5.0</td>\n",
       "      <td>10</td>\n",
       "    </tr>\n",
       "    <tr>\n",
       "      <th>6</th>\n",
       "      <td>20</td>\n",
       "      <td>RT @Kyle_Odegard: Kyler Murray's Total QBR in ...</td>\n",
       "      <td>54</td>\n",
       "      <td>0</td>\n",
       "      <td>6.0</td>\n",
       "      <td>10</td>\n",
       "    </tr>\n",
       "    <tr>\n",
       "      <th>7</th>\n",
       "      <td>22</td>\n",
       "      <td>RT @NFL_DovKleiman: There are apparently peopl...</td>\n",
       "      <td>24</td>\n",
       "      <td>0</td>\n",
       "      <td>7.0</td>\n",
       "      <td>10</td>\n",
       "    </tr>\n",
       "    <tr>\n",
       "      <th>8</th>\n",
       "      <td>44</td>\n",
       "      <td>RT @KendrickPerkins: Let’s get it Got Damn it....</td>\n",
       "      <td>56</td>\n",
       "      <td>0</td>\n",
       "      <td>8.0</td>\n",
       "      <td>10</td>\n",
       "    </tr>\n",
       "    <tr>\n",
       "      <th>9</th>\n",
       "      <td>46</td>\n",
       "      <td>RT @AndrewSiciliano: 5 QB led their teams in r...</td>\n",
       "      <td>299</td>\n",
       "      <td>0</td>\n",
       "      <td>9.0</td>\n",
       "      <td>10</td>\n",
       "    </tr>\n",
       "    <tr>\n",
       "      <th>10</th>\n",
       "      <td>51</td>\n",
       "      <td>RT @soonergridiron: Kyler Murray x Trent Willi...</td>\n",
       "      <td>108</td>\n",
       "      <td>0</td>\n",
       "      <td>10.0</td>\n",
       "      <td>10</td>\n",
       "    </tr>\n",
       "    <tr>\n",
       "      <th>11</th>\n",
       "      <td>54</td>\n",
       "      <td>RT @Brickwallblitz: Holy hell who wants to see...</td>\n",
       "      <td>26</td>\n",
       "      <td>0</td>\n",
       "      <td>11.0</td>\n",
       "      <td>10</td>\n",
       "    </tr>\n",
       "    <tr>\n",
       "      <th>12</th>\n",
       "      <td>57</td>\n",
       "      <td>RT @BleacherReport: Kyler Murray scramble TD 😳...</td>\n",
       "      <td>855</td>\n",
       "      <td>0</td>\n",
       "      <td>12.0</td>\n",
       "      <td>10</td>\n",
       "    </tr>\n",
       "    <tr>\n",
       "      <th>13</th>\n",
       "      <td>79</td>\n",
       "      <td>RT @WorldWideWob: Jamal Murray. Night. https:/...</td>\n",
       "      <td>2920</td>\n",
       "      <td>0</td>\n",
       "      <td>13.0</td>\n",
       "      <td>10</td>\n",
       "    </tr>\n",
       "    <tr>\n",
       "      <th>14</th>\n",
       "      <td>80</td>\n",
       "      <td>RT @kmeinke: Out at least three weeks. The qua...</td>\n",
       "      <td>21</td>\n",
       "      <td>0</td>\n",
       "      <td>14.0</td>\n",
       "      <td>10</td>\n",
       "    </tr>\n",
       "    <tr>\n",
       "      <th>15</th>\n",
       "      <td>104</td>\n",
       "      <td>RT @AlGaldi: Chase Young vs. Kyler Murray this...</td>\n",
       "      <td>256</td>\n",
       "      <td>0</td>\n",
       "      <td>15.0</td>\n",
       "      <td>10</td>\n",
       "    </tr>\n",
       "    <tr>\n",
       "      <th>16</th>\n",
       "      <td>130</td>\n",
       "      <td>If you play in the same division as a unique t...</td>\n",
       "      <td>5</td>\n",
       "      <td>100</td>\n",
       "      <td>16.0</td>\n",
       "      <td>10</td>\n",
       "    </tr>\n",
       "    <tr>\n",
       "      <th>17</th>\n",
       "      <td>134</td>\n",
       "      <td>On the left is calamari. On the right is Kyler...</td>\n",
       "      <td>8</td>\n",
       "      <td>140</td>\n",
       "      <td>17.0</td>\n",
       "      <td>10</td>\n",
       "    </tr>\n",
       "    <tr>\n",
       "      <th>18</th>\n",
       "      <td>144</td>\n",
       "      <td>RT @protectedpick: Kyler Murray and Deandre Ho...</td>\n",
       "      <td>191</td>\n",
       "      <td>0</td>\n",
       "      <td>18.0</td>\n",
       "      <td>10</td>\n",
       "    </tr>\n",
       "    <tr>\n",
       "      <th>19</th>\n",
       "      <td>275</td>\n",
       "      <td>\"Kyler Murray is the 𝙍𝙚𝙖𝙡 𝘿𝙚𝙖𝙡.\"  @DeAngeloHal...</td>\n",
       "      <td>129</td>\n",
       "      <td>875</td>\n",
       "      <td>19.0</td>\n",
       "      <td>10</td>\n",
       "    </tr>\n",
       "    <tr>\n",
       "      <th>20</th>\n",
       "      <td>281</td>\n",
       "      <td>RT @NBCS49ers: Mike Pereira echoed Richard She...</td>\n",
       "      <td>35</td>\n",
       "      <td>0</td>\n",
       "      <td>20.0</td>\n",
       "      <td>10</td>\n",
       "    </tr>\n",
       "    <tr>\n",
       "      <th>21</th>\n",
       "      <td>300</td>\n",
       "      <td>RT @MoveTheSticks: Kyler Murray ran the ball 1...</td>\n",
       "      <td>942</td>\n",
       "      <td>0</td>\n",
       "      <td>21.0</td>\n",
       "      <td>10</td>\n",
       "    </tr>\n",
       "    <tr>\n",
       "      <th>22</th>\n",
       "      <td>308</td>\n",
       "      <td>RT @NFL: Can't touch Kyler Murray 😳 @K1 #AZCar...</td>\n",
       "      <td>700</td>\n",
       "      <td>0</td>\n",
       "      <td>22.0</td>\n",
       "      <td>10</td>\n",
       "    </tr>\n",
       "    <tr>\n",
       "      <th>23</th>\n",
       "      <td>326</td>\n",
       "      <td>RT @undisputed: .@ShannonSharpe on who had a m...</td>\n",
       "      <td>59</td>\n",
       "      <td>0</td>\n",
       "      <td>23.0</td>\n",
       "      <td>10</td>\n",
       "    </tr>\n",
       "    <tr>\n",
       "      <th>24</th>\n",
       "      <td>354</td>\n",
       "      <td>RT @BNightengale: The Oakland #Athletics cauti...</td>\n",
       "      <td>46</td>\n",
       "      <td>0</td>\n",
       "      <td>24.0</td>\n",
       "      <td>10</td>\n",
       "    </tr>\n",
       "    <tr>\n",
       "      <th>25</th>\n",
       "      <td>375</td>\n",
       "      <td>RT @EAMaddenNFL: Kyler Murray, Escape Artist 🎨...</td>\n",
       "      <td>284</td>\n",
       "      <td>0</td>\n",
       "      <td>25.0</td>\n",
       "      <td>10</td>\n",
       "    </tr>\n",
       "    <tr>\n",
       "      <th>26</th>\n",
       "      <td>376</td>\n",
       "      <td>There are apparently people in the NFL who bel...</td>\n",
       "      <td>24</td>\n",
       "      <td>174</td>\n",
       "      <td>26.0</td>\n",
       "      <td>10</td>\n",
       "    </tr>\n",
       "    <tr>\n",
       "      <th>27</th>\n",
       "      <td>397</td>\n",
       "      <td>RT @TonyDungy: Biggest surprise of the day for...</td>\n",
       "      <td>29</td>\n",
       "      <td>0</td>\n",
       "      <td>27.0</td>\n",
       "      <td>10</td>\n",
       "    </tr>\n",
       "    <tr>\n",
       "      <th>28</th>\n",
       "      <td>399</td>\n",
       "      <td>RT @soonergridiron: Kyler Murray doing Kyler M...</td>\n",
       "      <td>205</td>\n",
       "      <td>0</td>\n",
       "      <td>28.0</td>\n",
       "      <td>10</td>\n",
       "    </tr>\n",
       "    <tr>\n",
       "      <th>29</th>\n",
       "      <td>461</td>\n",
       "      <td>RT @FB_FilmAnalysis: People were upset because...</td>\n",
       "      <td>20</td>\n",
       "      <td>0</td>\n",
       "      <td>29.0</td>\n",
       "      <td>10</td>\n",
       "    </tr>\n",
       "    <tr>\n",
       "      <th>30</th>\n",
       "      <td>512</td>\n",
       "      <td>As @PFF_Jeff said, although Javon Kinlaw didn'...</td>\n",
       "      <td>19</td>\n",
       "      <td>233</td>\n",
       "      <td>30.0</td>\n",
       "      <td>10</td>\n",
       "    </tr>\n",
       "  </tbody>\n",
       "</table>\n",
       "</div>"
      ],
      "text/plain": [
       "    index                                              tweet  num_retweets  \\\n",
       "0       0  RT @TheUndefeated: Cam Newton, Teddy Bridgewat...         11610   \n",
       "1       1  RT @soonergridiron: Chris Berman calls Kyler M...            89   \n",
       "2       3  RT @AZCardinals: There have been three games i...           263   \n",
       "3       4  RT @RealJayWilliams: I see you @UKCoachCalipar...          1157   \n",
       "4       5  RT @AZCardinals: \"Kyler Murray is the 𝙍𝙚𝙖𝙡 𝘿𝙚𝙖...           129   \n",
       "5      13  RT @FourVerts: where are the people that said ...           106   \n",
       "6      20  RT @Kyle_Odegard: Kyler Murray's Total QBR in ...            54   \n",
       "7      22  RT @NFL_DovKleiman: There are apparently peopl...            24   \n",
       "8      44  RT @KendrickPerkins: Let’s get it Got Damn it....            56   \n",
       "9      46  RT @AndrewSiciliano: 5 QB led their teams in r...           299   \n",
       "10     51  RT @soonergridiron: Kyler Murray x Trent Willi...           108   \n",
       "11     54  RT @Brickwallblitz: Holy hell who wants to see...            26   \n",
       "12     57  RT @BleacherReport: Kyler Murray scramble TD 😳...           855   \n",
       "13     79  RT @WorldWideWob: Jamal Murray. Night. https:/...          2920   \n",
       "14     80  RT @kmeinke: Out at least three weeks. The qua...            21   \n",
       "15    104  RT @AlGaldi: Chase Young vs. Kyler Murray this...           256   \n",
       "16    130  If you play in the same division as a unique t...             5   \n",
       "17    134  On the left is calamari. On the right is Kyler...             8   \n",
       "18    144  RT @protectedpick: Kyler Murray and Deandre Ho...           191   \n",
       "19    275  \"Kyler Murray is the 𝙍𝙚𝙖𝙡 𝘿𝙚𝙖𝙡.\"  @DeAngeloHal...           129   \n",
       "20    281  RT @NBCS49ers: Mike Pereira echoed Richard She...            35   \n",
       "21    300  RT @MoveTheSticks: Kyler Murray ran the ball 1...           942   \n",
       "22    308  RT @NFL: Can't touch Kyler Murray 😳 @K1 #AZCar...           700   \n",
       "23    326  RT @undisputed: .@ShannonSharpe on who had a m...            59   \n",
       "24    354  RT @BNightengale: The Oakland #Athletics cauti...            46   \n",
       "25    375  RT @EAMaddenNFL: Kyler Murray, Escape Artist 🎨...           284   \n",
       "26    376  There are apparently people in the NFL who bel...            24   \n",
       "27    397  RT @TonyDungy: Biggest surprise of the day for...            29   \n",
       "28    399  RT @soonergridiron: Kyler Murray doing Kyler M...           205   \n",
       "29    461  RT @FB_FilmAnalysis: People were upset because...            20   \n",
       "30    512  As @PFF_Jeff said, although Javon Kinlaw didn'...            19   \n",
       "\n",
       "    num_favorites  random   5  \n",
       "0               0     0.0  10  \n",
       "1               0     1.0  10  \n",
       "2               0     2.0  10  \n",
       "3               0     3.0  10  \n",
       "4               0     4.0  10  \n",
       "5               0     5.0  10  \n",
       "6               0     6.0  10  \n",
       "7               0     7.0  10  \n",
       "8               0     8.0  10  \n",
       "9               0     9.0  10  \n",
       "10              0    10.0  10  \n",
       "11              0    11.0  10  \n",
       "12              0    12.0  10  \n",
       "13              0    13.0  10  \n",
       "14              0    14.0  10  \n",
       "15              0    15.0  10  \n",
       "16            100    16.0  10  \n",
       "17            140    17.0  10  \n",
       "18              0    18.0  10  \n",
       "19            875    19.0  10  \n",
       "20              0    20.0  10  \n",
       "21              0    21.0  10  \n",
       "22              0    22.0  10  \n",
       "23              0    23.0  10  \n",
       "24              0    24.0  10  \n",
       "25              0    25.0  10  \n",
       "26            174    26.0  10  \n",
       "27              0    27.0  10  \n",
       "28              0    28.0  10  \n",
       "29              0    29.0  10  \n",
       "30            233    30.0  10  "
      ]
     },
     "execution_count": 102,
     "metadata": {},
     "output_type": "execute_result"
    }
   ],
   "source": [
    "data"
   ]
  },
  {
   "cell_type": "code",
   "execution_count": 10,
   "metadata": {},
   "outputs": [
    {
     "data": {
      "text/plain": [
       "['16-09-2020_A.J. Brown_tweets.csv',\n",
       " '16-09-2020_A.J. Green_tweets.csv',\n",
       " '16-09-2020_AJ Dillon_tweets.csv',\n",
       " '16-09-2020_Aaron Jones_tweets.csv',\n",
       " '16-09-2020_Aaron Rodgers_tweets.csv',\n",
       " '16-09-2020_Adam Thielen_tweets.csv',\n",
       " '16-09-2020_Adrian Peterson_tweets.csv',\n",
       " '16-09-2020_Alexander Mattison_tweets.csv',\n",
       " '16-09-2020_Allen Lazard_tweets.csv',\n",
       " '16-09-2020_Allen Robinson II_tweets.csv',\n",
       " '16-09-2020_Alshon Jeffery_tweets.csv',\n",
       " '16-09-2020_Alvin Kamara_tweets.csv',\n",
       " '16-09-2020_Amari Cooper_tweets.csv',\n",
       " '16-09-2020_Andy Isabella_tweets.csv',\n",
       " '16-09-2020_Anthony Miller_tweets.csv',\n",
       " '16-09-2020_Antonio Brown_tweets.csv',\n",
       " '16-09-2020_Antonio Gibson_tweets.csv',\n",
       " '16-09-2020_Austin Ekeler_tweets.csv',\n",
       " '16-09-2020_Austin Hooper_tweets.csv',\n",
       " '16-09-2020_Baker Mayfield_tweets.csv',\n",
       " '16-09-2020_Ben Roethlisberger_tweets.csv',\n",
       " '16-09-2020_Benny Snell Jr._tweets.csv',\n",
       " '16-09-2020_Boston Scott_tweets.csv',\n",
       " '16-09-2020_Brandin Cooks_tweets.csv',\n",
       " '16-09-2020_Brandon Aiyuk_tweets.csv',\n",
       " '16-09-2020_Breshad Perriman_tweets.csv',\n",
       " '16-09-2020_Calvin Ridley_tweets.csv',\n",
       " '16-09-2020_Cam Akers_tweets.csv',\n",
       " '16-09-2020_Cam Newton_tweets.csv',\n",
       " '16-09-2020_Cameron Brate_tweets.csv',\n",
       " '16-09-2020_Carlos Hyde_tweets.csv',\n",
       " '16-09-2020_Carson Wentz_tweets.csv',\n",
       " '16-09-2020_CeeDee Lamb_tweets.csv',\n",
       " '16-09-2020_Chase Edmonds_tweets.csv',\n",
       " '16-09-2020_Chris Boswell_tweets.csv',\n",
       " '16-09-2020_Chris Carson_tweets.csv',\n",
       " '16-09-2020_Chris Godwin_tweets.csv',\n",
       " '16-09-2020_Chris Herndon_tweets.csv',\n",
       " '16-09-2020_Chris Thompson_tweets.csv',\n",
       " '16-09-2020_Christian Kirk_tweets.csv',\n",
       " '16-09-2020_Christian McCaffrey_tweets.csv',\n",
       " '16-09-2020_Clyde Edwards-Helaire_tweets.csv',\n",
       " '16-09-2020_Cooper Kupp_tweets.csv',\n",
       " '16-09-2020_Courtland Sutton_tweets.csv',\n",
       " '16-09-2020_Curtis Samuel_tweets.csv',\n",
       " \"16-09-2020_D'Andre Swift_tweets.csv\",\n",
       " '16-09-2020_DJ Chark Jr._tweets.csv',\n",
       " '16-09-2020_DJ Moore_tweets.csv',\n",
       " '16-09-2020_DK Metcalf_tweets.csv',\n",
       " '16-09-2020_Dak Prescott_tweets.csv',\n",
       " '16-09-2020_Dallas Goedert_tweets.csv',\n",
       " '16-09-2020_Dalvin Cook_tweets.csv',\n",
       " '16-09-2020_Damien Harris_tweets.csv',\n",
       " '16-09-2020_Darius Slayton_tweets.csv',\n",
       " '16-09-2020_Darrel Williams_tweets.csv',\n",
       " '16-09-2020_Darrell Henderson Jr._tweets.csv',\n",
       " '16-09-2020_Darren Waller_tweets.csv',\n",
       " '16-09-2020_Davante Adams_tweets.csv',\n",
       " '16-09-2020_David Johnson_tweets.csv',\n",
       " '16-09-2020_David Montgomery_tweets.csv',\n",
       " '16-09-2020_DeAndre Hopkins_tweets.csv',\n",
       " '16-09-2020_DeAndre Washington_tweets.csv',\n",
       " '16-09-2020_DeSean Jackson_tweets.csv',\n",
       " '16-09-2020_DeVante Parker_tweets.csv',\n",
       " '16-09-2020_Dede Westbrook_tweets.csv',\n",
       " '16-09-2020_Deebo Samuel_tweets.csv',\n",
       " '16-09-2020_Derek Carr_tweets.csv',\n",
       " '16-09-2020_Derrick Henry_tweets.csv',\n",
       " '16-09-2020_Deshaun Watson_tweets.csv',\n",
       " '16-09-2020_Devin Singletary_tweets.csv',\n",
       " '16-09-2020_Diontae Johnson_tweets.csv',\n",
       " '16-09-2020_Drew Brees_tweets.csv',\n",
       " '16-09-2020_Duke Johnson_tweets.csv',\n",
       " '16-09-2020_Emmanuel Sanders_tweets.csv',\n",
       " '16-09-2020_Eric Ebron_tweets.csv',\n",
       " '16-09-2020_Evan Engram_tweets.csv',\n",
       " '16-09-2020_Ezekiel Elliott_tweets.csv',\n",
       " '16-09-2020_George Kittle_tweets.csv',\n",
       " '16-09-2020_Golden Tate_tweets.csv',\n",
       " '16-09-2020_Greg Olsen_tweets.csv',\n",
       " '16-09-2020_Greg Zuerlein_tweets.csv',\n",
       " '16-09-2020_Harrison Butker_tweets.csv',\n",
       " '16-09-2020_Hayden Hurst_tweets.csv',\n",
       " '16-09-2020_Henry Ruggs III_tweets.csv',\n",
       " '16-09-2020_Hunter Henry_tweets.csv',\n",
       " '16-09-2020_Hunter Renfrow_tweets.csv',\n",
       " '16-09-2020_J.K. Dobbins_tweets.csv',\n",
       " '16-09-2020_Jack Doyle_tweets.csv',\n",
       " '16-09-2020_Jalen Reagor_tweets.csv',\n",
       " '16-09-2020_Jamaal Williams_tweets.csv',\n",
       " '16-09-2020_James Conner_tweets.csv',\n",
       " '16-09-2020_James White_tweets.csv',\n",
       " '16-09-2020_Jamison Crowder_tweets.csv',\n",
       " '16-09-2020_Jared Cook_tweets.csv',\n",
       " '16-09-2020_Jarvis Landry_tweets.csv',\n",
       " '16-09-2020_Jason Myers_tweets.csv',\n",
       " '16-09-2020_Jerry Jeudy_tweets.csv',\n",
       " '16-09-2020_Jimmy Garoppolo_tweets.csv',\n",
       " '16-09-2020_Joe Burrow_tweets.csv',\n",
       " '16-09-2020_Joe Mixon_tweets.csv',\n",
       " '16-09-2020_John Brown_tweets.csv',\n",
       " '16-09-2020_Jonathan Taylor_tweets.csv',\n",
       " '16-09-2020_Josh Allen_tweets.csv',\n",
       " '16-09-2020_Josh Jacobs_tweets.csv',\n",
       " '16-09-2020_JuJu Smith-Schuster_tweets.csv',\n",
       " '16-09-2020_Julian Edelman_tweets.csv',\n",
       " '16-09-2020_Julio Jones_tweets.csv',\n",
       " '16-09-2020_Justin Jackson_tweets.csv',\n",
       " '16-09-2020_Justin Jefferson_tweets.csv',\n",
       " '16-09-2020_Justin Tucker_tweets.csv',\n",
       " \"16-09-2020_Ka'imi Fairbairn_tweets.csv\",\n",
       " '16-09-2020_Kareem Hunt_tweets.csv',\n",
       " \"16-09-2020_Ke'Shawn Vaughn_tweets.csv\",\n",
       " '16-09-2020_Keenan Allen_tweets.csv',\n",
       " '16-09-2020_Kenny Golladay_tweets.csv',\n",
       " '16-09-2020_Kenyan Drake_tweets.csv',\n",
       " '16-09-2020_Kerryon Johnson_tweets.csv',\n",
       " '16-09-2020_Kyler Murray_tweets.csv',\n",
       " '16-09-2020_Lamar Jackson_tweets.csv',\n",
       " '16-09-2020_Larry Fitzgerald_tweets.csv',\n",
       " '16-09-2020_Latavius Murray_tweets.csv',\n",
       " \"16-09-2020_Le'Veon Bell_tweets.csv\",\n",
       " '16-09-2020_LeSean McCoy_tweets.csv',\n",
       " '16-09-2020_Leonard Fournette_tweets.csv',\n",
       " '16-09-2020_Mark Andrews_tweets.csv',\n",
       " '16-09-2020_Mark Ingram II_tweets.csv',\n",
       " '16-09-2020_Marlon Mack_tweets.csv',\n",
       " '16-09-2020_Marquise Brown_tweets.csv',\n",
       " '16-09-2020_Marshawn Lynch_tweets.csv',\n",
       " '16-09-2020_Marvin Jones Jr._tweets.csv',\n",
       " '16-09-2020_Matt Breida_tweets.csv',\n",
       " '16-09-2020_Matt Gay_tweets.csv',\n",
       " '16-09-2020_Matt Prater_tweets.csv',\n",
       " '16-09-2020_Matt Ryan_tweets.csv',\n",
       " '16-09-2020_Matthew Stafford_tweets.csv',\n",
       " '16-09-2020_Mecole Hardman_tweets.csv',\n",
       " '16-09-2020_Melvin Gordon III_tweets.csv',\n",
       " '16-09-2020_Michael Gallup_tweets.csv',\n",
       " '16-09-2020_Michael Thomas_tweets.csv',\n",
       " '16-09-2020_Mike Evans_tweets.csv',\n",
       " '16-09-2020_Mike Williams_tweets.csv',\n",
       " '16-09-2020_Miles Sanders_tweets.csv',\n",
       " '16-09-2020_Mohamed Sanu Sr._tweets.csv',\n",
       " \"16-09-2020_N'Keal Harry_tweets.csv\",\n",
       " '16-09-2020_Nick Chubb_tweets.csv',\n",
       " '16-09-2020_Noah Fant_tweets.csv',\n",
       " '16-09-2020_Nyheim Hines_tweets.csv',\n",
       " '16-09-2020_Odell Beckham Jr._tweets.csv',\n",
       " '16-09-2020_Parris Campbell_tweets.csv',\n",
       " '16-09-2020_Patrick Mahomes_tweets.csv',\n",
       " '16-09-2020_Phillip Lindsay_tweets.csv',\n",
       " '16-09-2020_Preston Williams_tweets.csv',\n",
       " '16-09-2020_Raheem Mostert_tweets.csv',\n",
       " '16-09-2020_Randall Cobb_tweets.csv',\n",
       " '16-09-2020_Rashaad Penny_tweets.csv',\n",
       " '16-09-2020_Rob Gronkowski_tweets.csv',\n",
       " '16-09-2020_Robbie Gould_tweets.csv',\n",
       " '16-09-2020_Robby Anderson_tweets.csv',\n",
       " '16-09-2020_Robert Woods_tweets.csv',\n",
       " '16-09-2020_Ronald Jones II_tweets.csv',\n",
       " '16-09-2020_Russell Wilson_tweets.csv',\n",
       " '16-09-2020_Ryquell Armstead_tweets.csv',\n",
       " '16-09-2020_Sammy Watkins_tweets.csv',\n",
       " '16-09-2020_Saquon Barkley_tweets.csv',\n",
       " '16-09-2020_Scotty Miller_tweets.csv',\n",
       " '16-09-2020_Sony Michel_tweets.csv',\n",
       " '16-09-2020_Stefon Diggs_tweets.csv',\n",
       " '16-09-2020_Sterling Shepard_tweets.csv',\n",
       " '16-09-2020_T.J. Hockenson_tweets.csv',\n",
       " '16-09-2020_T.Y. Hilton_tweets.csv',\n",
       " '16-09-2020_Tarik Cohen_tweets.csv',\n",
       " '16-09-2020_Terry McLaurin_tweets.csv',\n",
       " '16-09-2020_Tevin Coleman_tweets.csv',\n",
       " '16-09-2020_Todd Gurley II_tweets.csv',\n",
       " '16-09-2020_Tom Brady_tweets.csv',\n",
       " '16-09-2020_Tony Pollard_tweets.csv',\n",
       " '16-09-2020_Travis Kelce_tweets.csv',\n",
       " '16-09-2020_Trent Taylor_tweets.csv',\n",
       " '16-09-2020_Tua Tagovailoa_tweets.csv',\n",
       " '16-09-2020_Tyler Boyd_tweets.csv',\n",
       " '16-09-2020_Tyler Higbee_tweets.csv',\n",
       " '16-09-2020_Tyler Lockett_tweets.csv',\n",
       " '16-09-2020_Tyreek Hill_tweets.csv',\n",
       " '16-09-2020_Wil Lutz_tweets.csv',\n",
       " '16-09-2020_Will Fuller V_tweets.csv',\n",
       " '16-09-2020_Younghoe Koo_tweets.csv',\n",
       " '16-09-2020_Zach Ertz_tweets.csv',\n",
       " '16-09-2020_Zack Moss_tweets.csv',\n",
       " '16-09-2020_Zane Gonzalez_tweets.csv']"
      ]
     },
     "execution_count": 10,
     "metadata": {},
     "output_type": "execute_result"
    }
   ],
   "source": [
    "os.listdir(\"./sentiment-analysis/twitter/output/\")"
   ]
  },
  {
   "cell_type": "code",
   "execution_count": 42,
   "metadata": {},
   "outputs": [],
   "source": [
    "data = pd.read_csv(\"./sentiment-analysis/twitter/output/16-09-2020_Kyler Murray_tweets.csv\", index_col=0)"
   ]
  },
  {
   "cell_type": "code",
   "execution_count": 43,
   "metadata": {},
   "outputs": [
    {
     "data": {
      "text/html": [
       "<div>\n",
       "<style scoped>\n",
       "    .dataframe tbody tr th:only-of-type {\n",
       "        vertical-align: middle;\n",
       "    }\n",
       "\n",
       "    .dataframe tbody tr th {\n",
       "        vertical-align: top;\n",
       "    }\n",
       "\n",
       "    .dataframe thead th {\n",
       "        text-align: right;\n",
       "    }\n",
       "</style>\n",
       "<table border=\"1\" class=\"dataframe\">\n",
       "  <thead>\n",
       "    <tr style=\"text-align: right;\">\n",
       "      <th></th>\n",
       "      <th>tweet</th>\n",
       "      <th>num_retweets</th>\n",
       "      <th>num_favorites</th>\n",
       "    </tr>\n",
       "  </thead>\n",
       "  <tbody>\n",
       "    <tr>\n",
       "      <th>0</th>\n",
       "      <td>RT @TheUndefeated: Cam Newton, Teddy Bridgewat...</td>\n",
       "      <td>11610</td>\n",
       "      <td>0</td>\n",
       "    </tr>\n",
       "    <tr>\n",
       "      <th>1</th>\n",
       "      <td>RT @soonergridiron: Chris Berman calls Kyler M...</td>\n",
       "      <td>89</td>\n",
       "      <td>0</td>\n",
       "    </tr>\n",
       "    <tr>\n",
       "      <th>3</th>\n",
       "      <td>RT @AZCardinals: There have been three games i...</td>\n",
       "      <td>263</td>\n",
       "      <td>0</td>\n",
       "    </tr>\n",
       "    <tr>\n",
       "      <th>4</th>\n",
       "      <td>RT @RealJayWilliams: I see you @UKCoachCalipar...</td>\n",
       "      <td>1157</td>\n",
       "      <td>0</td>\n",
       "    </tr>\n",
       "    <tr>\n",
       "      <th>5</th>\n",
       "      <td>RT @AZCardinals: \"Kyler Murray is the 𝙍𝙚𝙖𝙡 𝘿𝙚𝙖...</td>\n",
       "      <td>129</td>\n",
       "      <td>0</td>\n",
       "    </tr>\n",
       "    <tr>\n",
       "      <th>13</th>\n",
       "      <td>RT @FourVerts: where are the people that said ...</td>\n",
       "      <td>106</td>\n",
       "      <td>0</td>\n",
       "    </tr>\n",
       "    <tr>\n",
       "      <th>20</th>\n",
       "      <td>RT @Kyle_Odegard: Kyler Murray's Total QBR in ...</td>\n",
       "      <td>54</td>\n",
       "      <td>0</td>\n",
       "    </tr>\n",
       "    <tr>\n",
       "      <th>22</th>\n",
       "      <td>RT @NFL_DovKleiman: There are apparently peopl...</td>\n",
       "      <td>24</td>\n",
       "      <td>0</td>\n",
       "    </tr>\n",
       "    <tr>\n",
       "      <th>44</th>\n",
       "      <td>RT @KendrickPerkins: Let’s get it Got Damn it....</td>\n",
       "      <td>56</td>\n",
       "      <td>0</td>\n",
       "    </tr>\n",
       "    <tr>\n",
       "      <th>46</th>\n",
       "      <td>RT @AndrewSiciliano: 5 QB led their teams in r...</td>\n",
       "      <td>299</td>\n",
       "      <td>0</td>\n",
       "    </tr>\n",
       "    <tr>\n",
       "      <th>51</th>\n",
       "      <td>RT @soonergridiron: Kyler Murray x Trent Willi...</td>\n",
       "      <td>108</td>\n",
       "      <td>0</td>\n",
       "    </tr>\n",
       "    <tr>\n",
       "      <th>54</th>\n",
       "      <td>RT @Brickwallblitz: Holy hell who wants to see...</td>\n",
       "      <td>26</td>\n",
       "      <td>0</td>\n",
       "    </tr>\n",
       "    <tr>\n",
       "      <th>57</th>\n",
       "      <td>RT @BleacherReport: Kyler Murray scramble TD 😳...</td>\n",
       "      <td>855</td>\n",
       "      <td>0</td>\n",
       "    </tr>\n",
       "    <tr>\n",
       "      <th>79</th>\n",
       "      <td>RT @WorldWideWob: Jamal Murray. Night. https:/...</td>\n",
       "      <td>2920</td>\n",
       "      <td>0</td>\n",
       "    </tr>\n",
       "    <tr>\n",
       "      <th>80</th>\n",
       "      <td>RT @kmeinke: Out at least three weeks. The qua...</td>\n",
       "      <td>21</td>\n",
       "      <td>0</td>\n",
       "    </tr>\n",
       "    <tr>\n",
       "      <th>104</th>\n",
       "      <td>RT @AlGaldi: Chase Young vs. Kyler Murray this...</td>\n",
       "      <td>256</td>\n",
       "      <td>0</td>\n",
       "    </tr>\n",
       "    <tr>\n",
       "      <th>130</th>\n",
       "      <td>If you play in the same division as a unique t...</td>\n",
       "      <td>5</td>\n",
       "      <td>100</td>\n",
       "    </tr>\n",
       "    <tr>\n",
       "      <th>134</th>\n",
       "      <td>On the left is calamari. On the right is Kyler...</td>\n",
       "      <td>8</td>\n",
       "      <td>140</td>\n",
       "    </tr>\n",
       "    <tr>\n",
       "      <th>144</th>\n",
       "      <td>RT @protectedpick: Kyler Murray and Deandre Ho...</td>\n",
       "      <td>191</td>\n",
       "      <td>0</td>\n",
       "    </tr>\n",
       "    <tr>\n",
       "      <th>275</th>\n",
       "      <td>\"Kyler Murray is the 𝙍𝙚𝙖𝙡 𝘿𝙚𝙖𝙡.\"  @DeAngeloHal...</td>\n",
       "      <td>129</td>\n",
       "      <td>875</td>\n",
       "    </tr>\n",
       "    <tr>\n",
       "      <th>281</th>\n",
       "      <td>RT @NBCS49ers: Mike Pereira echoed Richard She...</td>\n",
       "      <td>35</td>\n",
       "      <td>0</td>\n",
       "    </tr>\n",
       "    <tr>\n",
       "      <th>300</th>\n",
       "      <td>RT @MoveTheSticks: Kyler Murray ran the ball 1...</td>\n",
       "      <td>942</td>\n",
       "      <td>0</td>\n",
       "    </tr>\n",
       "    <tr>\n",
       "      <th>308</th>\n",
       "      <td>RT @NFL: Can't touch Kyler Murray 😳 @K1 #AZCar...</td>\n",
       "      <td>700</td>\n",
       "      <td>0</td>\n",
       "    </tr>\n",
       "    <tr>\n",
       "      <th>326</th>\n",
       "      <td>RT @undisputed: .@ShannonSharpe on who had a m...</td>\n",
       "      <td>59</td>\n",
       "      <td>0</td>\n",
       "    </tr>\n",
       "    <tr>\n",
       "      <th>354</th>\n",
       "      <td>RT @BNightengale: The Oakland #Athletics cauti...</td>\n",
       "      <td>46</td>\n",
       "      <td>0</td>\n",
       "    </tr>\n",
       "    <tr>\n",
       "      <th>375</th>\n",
       "      <td>RT @EAMaddenNFL: Kyler Murray, Escape Artist 🎨...</td>\n",
       "      <td>284</td>\n",
       "      <td>0</td>\n",
       "    </tr>\n",
       "    <tr>\n",
       "      <th>376</th>\n",
       "      <td>There are apparently people in the NFL who bel...</td>\n",
       "      <td>24</td>\n",
       "      <td>174</td>\n",
       "    </tr>\n",
       "    <tr>\n",
       "      <th>397</th>\n",
       "      <td>RT @TonyDungy: Biggest surprise of the day for...</td>\n",
       "      <td>29</td>\n",
       "      <td>0</td>\n",
       "    </tr>\n",
       "    <tr>\n",
       "      <th>399</th>\n",
       "      <td>RT @soonergridiron: Kyler Murray doing Kyler M...</td>\n",
       "      <td>205</td>\n",
       "      <td>0</td>\n",
       "    </tr>\n",
       "    <tr>\n",
       "      <th>461</th>\n",
       "      <td>RT @FB_FilmAnalysis: People were upset because...</td>\n",
       "      <td>20</td>\n",
       "      <td>0</td>\n",
       "    </tr>\n",
       "    <tr>\n",
       "      <th>512</th>\n",
       "      <td>As @PFF_Jeff said, although Javon Kinlaw didn'...</td>\n",
       "      <td>19</td>\n",
       "      <td>233</td>\n",
       "    </tr>\n",
       "  </tbody>\n",
       "</table>\n",
       "</div>"
      ],
      "text/plain": [
       "                                                 tweet  num_retweets  \\\n",
       "0    RT @TheUndefeated: Cam Newton, Teddy Bridgewat...         11610   \n",
       "1    RT @soonergridiron: Chris Berman calls Kyler M...            89   \n",
       "3    RT @AZCardinals: There have been three games i...           263   \n",
       "4    RT @RealJayWilliams: I see you @UKCoachCalipar...          1157   \n",
       "5    RT @AZCardinals: \"Kyler Murray is the 𝙍𝙚𝙖𝙡 𝘿𝙚𝙖...           129   \n",
       "13   RT @FourVerts: where are the people that said ...           106   \n",
       "20   RT @Kyle_Odegard: Kyler Murray's Total QBR in ...            54   \n",
       "22   RT @NFL_DovKleiman: There are apparently peopl...            24   \n",
       "44   RT @KendrickPerkins: Let’s get it Got Damn it....            56   \n",
       "46   RT @AndrewSiciliano: 5 QB led their teams in r...           299   \n",
       "51   RT @soonergridiron: Kyler Murray x Trent Willi...           108   \n",
       "54   RT @Brickwallblitz: Holy hell who wants to see...            26   \n",
       "57   RT @BleacherReport: Kyler Murray scramble TD 😳...           855   \n",
       "79   RT @WorldWideWob: Jamal Murray. Night. https:/...          2920   \n",
       "80   RT @kmeinke: Out at least three weeks. The qua...            21   \n",
       "104  RT @AlGaldi: Chase Young vs. Kyler Murray this...           256   \n",
       "130  If you play in the same division as a unique t...             5   \n",
       "134  On the left is calamari. On the right is Kyler...             8   \n",
       "144  RT @protectedpick: Kyler Murray and Deandre Ho...           191   \n",
       "275  \"Kyler Murray is the 𝙍𝙚𝙖𝙡 𝘿𝙚𝙖𝙡.\"  @DeAngeloHal...           129   \n",
       "281  RT @NBCS49ers: Mike Pereira echoed Richard She...            35   \n",
       "300  RT @MoveTheSticks: Kyler Murray ran the ball 1...           942   \n",
       "308  RT @NFL: Can't touch Kyler Murray 😳 @K1 #AZCar...           700   \n",
       "326  RT @undisputed: .@ShannonSharpe on who had a m...            59   \n",
       "354  RT @BNightengale: The Oakland #Athletics cauti...            46   \n",
       "375  RT @EAMaddenNFL: Kyler Murray, Escape Artist 🎨...           284   \n",
       "376  There are apparently people in the NFL who bel...            24   \n",
       "397  RT @TonyDungy: Biggest surprise of the day for...            29   \n",
       "399  RT @soonergridiron: Kyler Murray doing Kyler M...           205   \n",
       "461  RT @FB_FilmAnalysis: People were upset because...            20   \n",
       "512  As @PFF_Jeff said, although Javon Kinlaw didn'...            19   \n",
       "\n",
       "     num_favorites  \n",
       "0                0  \n",
       "1                0  \n",
       "3                0  \n",
       "4                0  \n",
       "5                0  \n",
       "13               0  \n",
       "20               0  \n",
       "22               0  \n",
       "44               0  \n",
       "46               0  \n",
       "51               0  \n",
       "54               0  \n",
       "57               0  \n",
       "79               0  \n",
       "80               0  \n",
       "104              0  \n",
       "130            100  \n",
       "134            140  \n",
       "144              0  \n",
       "275            875  \n",
       "281              0  \n",
       "300              0  \n",
       "308              0  \n",
       "326              0  \n",
       "354              0  \n",
       "375              0  \n",
       "376            174  \n",
       "397              0  \n",
       "399              0  \n",
       "461              0  \n",
       "512            233  "
      ]
     },
     "execution_count": 43,
     "metadata": {},
     "output_type": "execute_result"
    }
   ],
   "source": [
    "data"
   ]
  },
  {
   "cell_type": "code",
   "execution_count": 57,
   "metadata": {},
   "outputs": [],
   "source": []
  },
  {
   "cell_type": "code",
   "execution_count": 77,
   "metadata": {},
   "outputs": [
    {
     "data": {
      "text/plain": [
       "0.0780143989821409"
      ]
     },
     "execution_count": 77,
     "metadata": {},
     "output_type": "execute_result"
    }
   ],
   "source": [
    "sentiment = []\n",
    "for idx, row in data.iterrows():\n",
    "    sentiment.append(get_tweet_sentiment(row['tweet']))\n",
    "np.mean(sentiment)"
   ]
  },
  {
   "cell_type": "code",
   "execution_count": 74,
   "metadata": {},
   "outputs": [
    {
     "data": {
      "text/plain": [
       "'RT @FB_FilmAnalysis: People were upset because I said the 49ers DL was destroying the Cardinals OL during the game.  This is what Kyler was…'"
      ]
     },
     "execution_count": 74,
     "metadata": {},
     "output_type": "execute_result"
    }
   ],
   "source": [
    "data.iloc[-2]['tweet']"
   ]
  },
  {
   "cell_type": "code",
   "execution_count": null,
   "metadata": {},
   "outputs": [],
   "source": [
    "original_data"
   ]
  }
 ],
 "metadata": {
  "kernelspec": {
   "display_name": "Python 3",
   "language": "python",
   "name": "python3"
  },
  "language_info": {
   "codemirror_mode": {
    "name": "ipython",
    "version": 3
   },
   "file_extension": ".py",
   "mimetype": "text/x-python",
   "name": "python",
   "nbconvert_exporter": "python",
   "pygments_lexer": "ipython3",
   "version": "3.7.7"
  }
 },
 "nbformat": 4,
 "nbformat_minor": 4
}
