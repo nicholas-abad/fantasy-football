{
 "cells": [
  {
   "cell_type": "code",
   "execution_count": 1,
   "metadata": {},
   "outputs": [],
   "source": [
    "import os\n",
    "import re\n",
    "\n",
    "import numpy as np\n",
    "import pandas as pd\n",
    "from tqdm import tqdm\n",
    "\n",
    "from textblob import TextBlob"
   ]
  },
  {
   "cell_type": "code",
   "execution_count": 16,
   "metadata": {},
   "outputs": [],
   "source": [
    "def _get_sentiment_analysis_on_dataframe(path_to_tweets):\n",
    "    player_tweets_df = pd.read_csv(path_to_tweets, index_col=0)\n",
    "    player_tweets_df = player_tweets_df.reset_index()\n",
    "    sentiment = []\n",
    "    for idx, row in player_tweets_df.iterrows():\n",
    "        print(f\"{_get_tweet_sentiment(row['tweet'])} Row: {row['tweet']}\\n\")\n",
    "        sentiment.append(_get_tweet_sentiment(row[\"tweet\"]))\n",
    "    num_tweets = player_tweets_df.shape[0]\n",
    "    return np.mean(sentiment), num_tweets\n",
    "\n",
    "\n",
    "def _get_tweet_sentiment(tweet):\n",
    "    \"\"\"\n",
    "    Utility function to classify sentiment of passed tweet\n",
    "    using textblob's sentiment method\n",
    "    \"\"\"\n",
    "    cleaned_tweet = \" \".join(\n",
    "        re.sub(\"(@[A-Za-z0-9]+)|([^0-9A-Za-z \\t]) |(\\w+:\\/\\/\\S+)\", \" \", tweet).split()\n",
    "    )\n",
    "\n",
    "    # create TextBlob object of passed tweet text\n",
    "    analysis = TextBlob(cleaned_tweet)\n",
    "\n",
    "    # polarity > 0 is positive\n",
    "    # polarity == 0 is neutral\n",
    "    # polarity < 0 is negative\n",
    "\n",
    "    # return sentiment\n",
    "    return analysis.sentiment.polarity\n"
   ]
  },
  {
   "cell_type": "code",
   "execution_count": 17,
   "metadata": {},
   "outputs": [
    {
     "name": "stdout",
     "output_type": "stream",
     "text": [
      "0.0 Row: RT @IvanTheGreat7: Madden gave the following players an overall Update: Josh Jacobs 90 Johnathan Abram 75 Derek Carr 80 Mo Hurst 79 Littlet…\n",
      "\n",
      "1.0 Row: RT @NFL_Stats: QBs with best passer rating in week 1:  Lamar Jackson - 152.1 Russell Wilson - 143.1 Gardner Minshew - 142.3 Aaron Rodgers -…\n",
      "\n",
      "0.0 Row: RT @RaiderPosts: A message from Derek Carr. #Raiders https://t.co/dgoKeHAHsu\n",
      "\n",
      "0.29000000000000004 Row: RT @Raiders: \"Obviously, we want to get a win especially with it being our first time in this stadium, so it's going to be huge.\"  Our guys…\n",
      "\n",
      "0.0 Row: RT @PFF_Raiders: Derek Carr was only under pressure on 10% of his dropbacks Week 1, the lowest rate in the league 💪  The #Raiders team pass…\n",
      "\n",
      "0.22727272727272727 Row: RT @PFF: Lowest rate of positively graded pass plays in W1:   1. Drew Lock  2. Derek Carr  3. Sam Darnold  4. Jimmy Garoppolo https://t.co/…\n",
      "\n",
      "0.0 Row: Madden gave the following players an overall Update: Josh Jacobs 90 Johnathan Abram 75 Derek Carr 80 Mo Hurst 79 Littleton 79 Mullen 75\n",
      "\n",
      "0.0 Row: RT @NBCSRaiders: The Raiders have an opportunity to make a statement against the Saints on Monday Night Football (via @VegasNation)  https:…\n",
      "\n",
      "0.5875 Row: RT @VicTafur: Derek Carr on facing Saints Mon.: “I am excited for the chance to play a great team and see where we’re at.” Just like in 201…\n",
      "\n",
      "0.0 Row: RT @NextGenStats: Derek Carr and rookie WR Henry Ruggs III connected a crossing route that created 9.1 yards of separation from the nearest…\n",
      "\n",
      "-0.3 Row: RT @fbgchase: Derek Carr has now started and won 11 games where he had 0 INTs and 0 sacks and threw at least 10 passes, which matches Joe M…\n",
      "\n",
      "0.018181818181818174 Row: RT @Raiders: 🎥🔴 Live: Josh Jacobs and Derek Carr address the media from the Intermountain Healthcare Performance Center in Henderson. https…\n",
      "\n",
      "0.0 Row: RT @LeviDamien: Here’s that Derek Carr audible “Cindy Gruden Tiger Woods!” https://t.co/GmIYoEIYCj\n",
      "\n",
      "-0.2 Row: RT @JoshDubowAP: #Raiders are 10-3 in Derek Carr's career when he completes 3+ deep balls (20+ yards downfield) in a game, 12-15 when he do…\n",
      "\n",
      "0.0 Row: RT @LeviDamien: Derek Carr on Jon Gruden supposedly not wanting his wife's named in Carr's line calls. \"If y'all believe coach Gruden doesn…\n",
      "\n",
      "0.19999999999999998 Row: RT @CBSSportsHQ: Since 2015, Derek Carr has:  ‣ More yards per game than Russell Wilson ‣ More yards per attempt than Aaron Rodgers ‣ Less…\n",
      "\n",
      "0.0 Row: The Raiders have an opportunity to make a statement against the Saints on Monday Night Football (via @VegasNation)  https://t.co/KzfBmkbBFP https://t.co/9tSHGGSu83\n",
      "\n",
      "0.13636363636363635 Row: RT @Jerrymcd: Four players remain from #Raiders 2016 Week 1 53-man roster in New Orleans, won 35-34. Derek Carr, Gabe Jackson, Rodney Hudso…\n",
      "\n",
      "-0.4 Row: Derek Carr will face his 1st head coach this week when #Raiders face Saints and defensive coordinator Dennis Allen. Carr in 4 games with Dennis Allen as head coach: 0-4, 75.2 rating, 12.8 ppg Carr in 1 game against Dennis Allen as DC: 1-0, 98.5 rating, 35 ppg\n",
      "\n",
      "0.24285714285714288 Row: \"Obviously, we want to get a win especially with it being our first time in this stadium, so it's going to be huge.\"  Our guys want to open @AllegiantStadm with a bang, but have to go through a proven Saints defense first » https://t.co/S7DKxzgJB3 https://t.co/5MwQreAzP2\n",
      "\n",
      "0.0 Row: Derek Carr was only under pressure on 10% of his dropbacks Week 1, the lowest rate in the league 💪  The #Raiders team pass blocking efficiency of 95.0 is currently ranked 2nd!  #RaiderNation https://t.co/7ZMB5iRxUg\n",
      "\n",
      "0.26666666666666666 Row: Remember, Derek Carr is not listening to the critics . . . here's his observation of Drew Brees: `He'd rather rather throw a completion than a 40-yard pass for an incompletion. He has a Super Bowl ring, so he doesn't hear much about it.' #Raiders\n",
      "\n",
      "0.0 Row: I’ve titled Derek Carr’s #Raiders presser as:   “I hear you talking 💩, but I’m going to do my thing.”\n",
      "\n",
      "0.6083333333333334 Row: Derek Carr on facing Saints Mon.: “I am excited for the chance to play a great team and see where we’re at.” Just like in 2016, #Raiders going in very confident.  He sees parallels to that playoff team.\n",
      "\n",
      "0.1583333333333333 Row: Derek Carr's answer about Drew Brees' play:  \"He would rather throw a completion than throw a 40-yard pass for an incompletion. And he has a Super Bowl ring, so he doesn't hear much about it. (Smiling) I love his game. He keeps the ball moving. He's efficient...\"  #Raiders\n",
      "\n"
     ]
    },
    {
     "data": {
      "text/plain": [
       "(0.11342034632034632, 25)"
      ]
     },
     "execution_count": 17,
     "metadata": {},
     "output_type": "execute_result"
    }
   ],
   "source": [
    "_get_sentiment_analysis_on_dataframe(\"./twitter/individual/18-09-2020_Derek Carr_tweets.csv\")"
   ]
  },
  {
   "cell_type": "code",
   "execution_count": 4,
   "metadata": {},
   "outputs": [
    {
     "name": "stdout",
     "output_type": "stream",
     "text": [
      "Untitled.ipynb\tmain.py  reddit  twitter\r\n"
     ]
    }
   ],
   "source": [
    "!ls"
   ]
  },
  {
   "cell_type": "code",
   "execution_count": null,
   "metadata": {},
   "outputs": [],
   "source": []
  }
 ],
 "metadata": {
  "kernelspec": {
   "display_name": "Python 3",
   "language": "python",
   "name": "python3"
  },
  "language_info": {
   "codemirror_mode": {
    "name": "ipython",
    "version": 3
   },
   "file_extension": ".py",
   "mimetype": "text/x-python",
   "name": "python",
   "nbconvert_exporter": "python",
   "pygments_lexer": "ipython3",
   "version": "3.7.7"
  }
 },
 "nbformat": 4,
 "nbformat_minor": 4
}
